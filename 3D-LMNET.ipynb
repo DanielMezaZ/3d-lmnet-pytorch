{
  "cells": [
    {
      "cell_type": "code",
      "execution_count": 1,
      "metadata": {
        "colab": {
          "base_uri": "https://localhost:8080/",
          "height": 1000
        },
        "id": "2C8V1skstgvC",
        "outputId": "461bafc4-51ac-492e-fdcc-eebe4ec86e1b"
      },
      "outputs": [
        {
          "output_type": "stream",
          "name": "stdout",
          "text": [
            "Mounted at /content/drive\n",
            "Installing requirements\n",
            "Looking in indexes: https://pypi.org/simple, https://us-python.pkg.dev/colab-wheels/public/simple/\n",
            "Collecting jupyter>=1.0.0\n",
            "  Downloading jupyter-1.0.0-py2.py3-none-any.whl (2.7 kB)\n",
            "Collecting K3D>=2.9.4\n",
            "  Downloading k3d-2.15.2-py3-none-any.whl (23.0 MB)\n",
            "\u001b[2K     \u001b[90m━━━━━━━━━━━━━━━━━━━━━━━━━━━━━━━━━━━━━━━━\u001b[0m \u001b[32m23.0/23.0 MB\u001b[0m \u001b[31m64.2 MB/s\u001b[0m eta \u001b[36m0:00:00\u001b[0m\n",
            "\u001b[?25hCollecting matplotlib>=3.4.1\n",
            "  Downloading matplotlib-3.6.3-cp38-cp38-manylinux_2_12_x86_64.manylinux2010_x86_64.whl (9.4 MB)\n",
            "\u001b[2K     \u001b[90m━━━━━━━━━━━━━━━━━━━━━━━━━━━━━━━━━━━━━━━━\u001b[0m \u001b[32m9.4/9.4 MB\u001b[0m \u001b[31m59.6 MB/s\u001b[0m eta \u001b[36m0:00:00\u001b[0m\n",
            "\u001b[?25hCollecting trimesh>=3.9.14\n",
            "  Downloading trimesh-3.18.1-py3-none-any.whl (670 kB)\n",
            "\u001b[2K     \u001b[90m━━━━━━━━━━━━━━━━━━━━━━━━━━━━━━━━━━━━━━\u001b[0m \u001b[32m670.9/670.9 KB\u001b[0m \u001b[31m59.0 MB/s\u001b[0m eta \u001b[36m0:00:00\u001b[0m\n",
            "\u001b[?25hRequirement already satisfied: torch>=1.8.1 in /usr/local/lib/python3.8/dist-packages (from -r requirements.txt (line 5)) (1.13.1+cu116)\n",
            "Collecting pytorch-lightning>=1.2.8\n",
            "  Downloading pytorch_lightning-1.9.0-py3-none-any.whl (825 kB)\n",
            "\u001b[2K     \u001b[90m━━━━━━━━━━━━━━━━━━━━━━━━━━━━━━━━━━━━━━\u001b[0m \u001b[32m825.8/825.8 KB\u001b[0m \u001b[31m65.3 MB/s\u001b[0m eta \u001b[36m0:00:00\u001b[0m\n",
            "\u001b[?25hRequirement already satisfied: scikit-image>=0.18.1 in /usr/local/lib/python3.8/dist-packages (from -r requirements.txt (line 7)) (0.18.3)\n",
            "Collecting pyrender>=0.1.43\n",
            "  Downloading pyrender-0.1.45-py3-none-any.whl (1.2 MB)\n",
            "\u001b[2K     \u001b[90m━━━━━━━━━━━━━━━━━━━━━━━━━━━━━━━━━━━━━━━━\u001b[0m \u001b[32m1.2/1.2 MB\u001b[0m \u001b[31m79.3 MB/s\u001b[0m eta \u001b[36m0:00:00\u001b[0m\n",
            "\u001b[?25hCollecting moviepy>=1.0.3\n",
            "  Downloading moviepy-1.0.3.tar.gz (388 kB)\n",
            "\u001b[2K     \u001b[90m━━━━━━━━━━━━━━━━━━━━━━━━━━━━━━━━━━━━━━\u001b[0m \u001b[32m388.3/388.3 KB\u001b[0m \u001b[31m44.1 MB/s\u001b[0m eta \u001b[36m0:00:00\u001b[0m\n",
            "\u001b[?25h  Preparing metadata (setup.py) ... \u001b[?25l\u001b[?25hdone\n",
            "Collecting pillow>=7.2.0\n",
            "  Downloading Pillow-9.4.0-cp38-cp38-manylinux_2_28_x86_64.whl (3.4 MB)\n",
            "\u001b[2K     \u001b[90m━━━━━━━━━━━━━━━━━━━━━━━━━━━━━━━━━━━━━━━━\u001b[0m \u001b[32m3.4/3.4 MB\u001b[0m \u001b[31m102.7 MB/s\u001b[0m eta \u001b[36m0:00:00\u001b[0m\n",
            "\u001b[?25hRequirement already satisfied: tqdm>=4.48.2 in /usr/local/lib/python3.8/dist-packages (from -r requirements.txt (line 11)) (4.64.1)\n",
            "Requirement already satisfied: scipy>=1.4.1 in /usr/local/lib/python3.8/dist-packages (from -r requirements.txt (line 12)) (1.7.3)\n",
            "Requirement already satisfied: numpy>=1.19.4 in /usr/local/lib/python3.8/dist-packages (from -r requirements.txt (line 13)) (1.21.6)\n",
            "Collecting qtconsole\n",
            "  Downloading qtconsole-5.4.0-py3-none-any.whl (121 kB)\n",
            "\u001b[2K     \u001b[90m━━━━━━━━━━━━━━━━━━━━━━━━━━━━━━━━━━━━━━\u001b[0m \u001b[32m121.0/121.0 KB\u001b[0m \u001b[31m15.0 MB/s\u001b[0m eta \u001b[36m0:00:00\u001b[0m\n",
            "\u001b[?25hRequirement already satisfied: ipywidgets in /usr/local/lib/python3.8/dist-packages (from jupyter>=1.0.0->-r requirements.txt (line 1)) (7.7.1)\n",
            "Requirement already satisfied: nbconvert in /usr/local/lib/python3.8/dist-packages (from jupyter>=1.0.0->-r requirements.txt (line 1)) (5.6.1)\n",
            "Requirement already satisfied: ipykernel in /usr/local/lib/python3.8/dist-packages (from jupyter>=1.0.0->-r requirements.txt (line 1)) (5.3.4)\n",
            "Requirement already satisfied: notebook in /usr/local/lib/python3.8/dist-packages (from jupyter>=1.0.0->-r requirements.txt (line 1)) (5.7.16)\n",
            "Requirement already satisfied: jupyter-console in /usr/local/lib/python3.8/dist-packages (from jupyter>=1.0.0->-r requirements.txt (line 1)) (6.1.0)\n",
            "Requirement already satisfied: msgpack in /usr/local/lib/python3.8/dist-packages (from K3D>=2.9.4->-r requirements.txt (line 2)) (1.0.4)\n",
            "Collecting traittypes\n",
            "  Downloading traittypes-0.2.1-py2.py3-none-any.whl (8.6 kB)\n",
            "Requirement already satisfied: traitlets in /usr/local/lib/python3.8/dist-packages (from K3D>=2.9.4->-r requirements.txt (line 2)) (5.7.1)\n",
            "Requirement already satisfied: kiwisolver>=1.0.1 in /usr/local/lib/python3.8/dist-packages (from matplotlib>=3.4.1->-r requirements.txt (line 3)) (1.4.4)\n",
            "Requirement already satisfied: python-dateutil>=2.7 in /usr/local/lib/python3.8/dist-packages (from matplotlib>=3.4.1->-r requirements.txt (line 3)) (2.8.2)\n",
            "Requirement already satisfied: pyparsing>=2.2.1 in /usr/local/lib/python3.8/dist-packages (from matplotlib>=3.4.1->-r requirements.txt (line 3)) (3.0.9)\n",
            "Collecting contourpy>=1.0.1\n",
            "  Downloading contourpy-1.0.7-cp38-cp38-manylinux_2_17_x86_64.manylinux2014_x86_64.whl (300 kB)\n",
            "\u001b[2K     \u001b[90m━━━━━━━━━━━━━━━━━━━━━━━━━━━━━━━━━━━━━━\u001b[0m \u001b[32m300.0/300.0 KB\u001b[0m \u001b[31m39.6 MB/s\u001b[0m eta \u001b[36m0:00:00\u001b[0m\n",
            "\u001b[?25hRequirement already satisfied: packaging>=20.0 in /usr/local/lib/python3.8/dist-packages (from matplotlib>=3.4.1->-r requirements.txt (line 3)) (21.3)\n",
            "Requirement already satisfied: cycler>=0.10 in /usr/local/lib/python3.8/dist-packages (from matplotlib>=3.4.1->-r requirements.txt (line 3)) (0.11.0)\n",
            "Collecting fonttools>=4.22.0\n",
            "  Downloading fonttools-4.38.0-py3-none-any.whl (965 kB)\n",
            "\u001b[2K     \u001b[90m━━━━━━━━━━━━━━━━━━━━━━━━━━━━━━━━━━━━━━\u001b[0m \u001b[32m965.4/965.4 KB\u001b[0m \u001b[31m73.8 MB/s\u001b[0m eta \u001b[36m0:00:00\u001b[0m\n",
            "\u001b[?25hRequirement already satisfied: typing-extensions in /usr/local/lib/python3.8/dist-packages (from torch>=1.8.1->-r requirements.txt (line 5)) (4.4.0)\n",
            "Requirement already satisfied: PyYAML>=5.4 in /usr/local/lib/python3.8/dist-packages (from pytorch-lightning>=1.2.8->-r requirements.txt (line 6)) (6.0)\n",
            "Requirement already satisfied: fsspec[http]>2021.06.0 in /usr/local/lib/python3.8/dist-packages (from pytorch-lightning>=1.2.8->-r requirements.txt (line 6)) (2022.11.0)\n",
            "Collecting lightning-utilities>=0.4.2\n",
            "  Downloading lightning_utilities-0.5.0-py3-none-any.whl (18 kB)\n",
            "Collecting torchmetrics>=0.7.0\n",
            "  Downloading torchmetrics-0.11.0-py3-none-any.whl (512 kB)\n",
            "\u001b[2K     \u001b[90m━━━━━━━━━━━━━━━━━━━━━━━━━━━━━━━━━━━━━━\u001b[0m \u001b[32m512.4/512.4 KB\u001b[0m \u001b[31m54.2 MB/s\u001b[0m eta \u001b[36m0:00:00\u001b[0m\n",
            "\u001b[?25hRequirement already satisfied: tifffile>=2019.7.26 in /usr/local/lib/python3.8/dist-packages (from scikit-image>=0.18.1->-r requirements.txt (line 7)) (2022.10.10)\n",
            "Requirement already satisfied: networkx>=2.0 in /usr/local/lib/python3.8/dist-packages (from scikit-image>=0.18.1->-r requirements.txt (line 7)) (3.0)\n",
            "Requirement already satisfied: imageio>=2.3.0 in /usr/local/lib/python3.8/dist-packages (from scikit-image>=0.18.1->-r requirements.txt (line 7)) (2.9.0)\n",
            "Requirement already satisfied: PyWavelets>=1.1.1 in /usr/local/lib/python3.8/dist-packages (from scikit-image>=0.18.1->-r requirements.txt (line 7)) (1.4.1)\n",
            "Requirement already satisfied: six in /usr/local/lib/python3.8/dist-packages (from pyrender>=0.1.43->-r requirements.txt (line 8)) (1.15.0)\n",
            "Collecting PyOpenGL==3.1.0\n",
            "  Downloading PyOpenGL-3.1.0.zip (2.2 MB)\n",
            "\u001b[2K     \u001b[90m━━━━━━━━━━━━━━━━━━━━━━━━━━━━━━━━━━━━━━━━\u001b[0m \u001b[32m2.2/2.2 MB\u001b[0m \u001b[31m96.9 MB/s\u001b[0m eta \u001b[36m0:00:00\u001b[0m\n",
            "\u001b[?25h  Preparing metadata (setup.py) ... \u001b[?25l\u001b[?25hdone\n",
            "Collecting freetype-py\n",
            "  Downloading freetype_py-2.3.0-py3-none-manylinux_2_5_x86_64.manylinux1_x86_64.manylinux_2_12_x86_64.manylinux2010_x86_64.whl (978 kB)\n",
            "\u001b[2K     \u001b[90m━━━━━━━━━━━━━━━━━━━━━━━━━━━━━━━━━━━━━━\u001b[0m \u001b[32m978.9/978.9 KB\u001b[0m \u001b[31m72.4 MB/s\u001b[0m eta \u001b[36m0:00:00\u001b[0m\n",
            "\u001b[?25hCollecting pyglet>=1.4.10\n",
            "  Downloading pyglet-2.0.3-py3-none-any.whl (968 kB)\n",
            "\u001b[2K     \u001b[90m━━━━━━━━━━━━━━━━━━━━━━━━━━━━━━━━━━━━━━\u001b[0m \u001b[32m968.6/968.6 KB\u001b[0m \u001b[31m76.2 MB/s\u001b[0m eta \u001b[36m0:00:00\u001b[0m\n",
            "\u001b[?25hRequirement already satisfied: decorator<5.0,>=4.0.2 in /usr/local/lib/python3.8/dist-packages (from moviepy>=1.0.3->-r requirements.txt (line 9)) (4.4.2)\n",
            "Requirement already satisfied: requests<3.0,>=2.8.1 in /usr/local/lib/python3.8/dist-packages (from moviepy>=1.0.3->-r requirements.txt (line 9)) (2.25.1)\n",
            "Collecting proglog<=1.0.0\n",
            "  Downloading proglog-0.1.10-py3-none-any.whl (6.1 kB)\n",
            "Collecting imageio_ffmpeg>=0.2.0\n",
            "  Downloading imageio_ffmpeg-0.4.8-py3-none-manylinux2010_x86_64.whl (26.9 MB)\n",
            "\u001b[2K     \u001b[90m━━━━━━━━━━━━━━━━━━━━━━━━━━━━━━━━━━━━━━━━\u001b[0m \u001b[32m26.9/26.9 MB\u001b[0m \u001b[31m30.3 MB/s\u001b[0m eta \u001b[36m0:00:00\u001b[0m\n",
            "\u001b[?25hRequirement already satisfied: aiohttp!=4.0.0a0,!=4.0.0a1 in /usr/local/lib/python3.8/dist-packages (from fsspec[http]>2021.06.0->pytorch-lightning>=1.2.8->-r requirements.txt (line 6)) (3.8.3)\n",
            "Requirement already satisfied: ipython>=4.0.0 in /usr/local/lib/python3.8/dist-packages (from ipywidgets->jupyter>=1.0.0->-r requirements.txt (line 1)) (7.9.0)\n",
            "Requirement already satisfied: widgetsnbextension~=3.6.0 in /usr/local/lib/python3.8/dist-packages (from ipywidgets->jupyter>=1.0.0->-r requirements.txt (line 1)) (3.6.1)\n",
            "Requirement already satisfied: jupyterlab-widgets>=1.0.0 in /usr/local/lib/python3.8/dist-packages (from ipywidgets->jupyter>=1.0.0->-r requirements.txt (line 1)) (3.0.5)\n",
            "Requirement already satisfied: ipython-genutils~=0.2.0 in /usr/local/lib/python3.8/dist-packages (from ipywidgets->jupyter>=1.0.0->-r requirements.txt (line 1)) (0.2.0)\n",
            "Requirement already satisfied: jupyter-client in /usr/local/lib/python3.8/dist-packages (from ipykernel->jupyter>=1.0.0->-r requirements.txt (line 1)) (6.1.12)\n",
            "Requirement already satisfied: tornado>=4.2 in /usr/local/lib/python3.8/dist-packages (from ipykernel->jupyter>=1.0.0->-r requirements.txt (line 1)) (6.0.4)\n",
            "Requirement already satisfied: idna<3,>=2.5 in /usr/local/lib/python3.8/dist-packages (from requests<3.0,>=2.8.1->moviepy>=1.0.3->-r requirements.txt (line 9)) (2.10)\n",
            "Requirement already satisfied: certifi>=2017.4.17 in /usr/local/lib/python3.8/dist-packages (from requests<3.0,>=2.8.1->moviepy>=1.0.3->-r requirements.txt (line 9)) (2022.12.7)\n",
            "Requirement already satisfied: urllib3<1.27,>=1.21.1 in /usr/local/lib/python3.8/dist-packages (from requests<3.0,>=2.8.1->moviepy>=1.0.3->-r requirements.txt (line 9)) (1.24.3)\n",
            "Requirement already satisfied: chardet<5,>=3.0.2 in /usr/local/lib/python3.8/dist-packages (from requests<3.0,>=2.8.1->moviepy>=1.0.3->-r requirements.txt (line 9)) (4.0.0)\n",
            "Requirement already satisfied: pygments in /usr/local/lib/python3.8/dist-packages (from jupyter-console->jupyter>=1.0.0->-r requirements.txt (line 1)) (2.6.1)\n",
            "Requirement already satisfied: prompt-toolkit!=3.0.0,!=3.0.1,<3.1.0,>=2.0.0 in /usr/local/lib/python3.8/dist-packages (from jupyter-console->jupyter>=1.0.0->-r requirements.txt (line 1)) (2.0.10)\n",
            "Requirement already satisfied: nbformat>=4.4 in /usr/local/lib/python3.8/dist-packages (from nbconvert->jupyter>=1.0.0->-r requirements.txt (line 1)) (5.7.1)\n",
            "Requirement already satisfied: testpath in /usr/local/lib/python3.8/dist-packages (from nbconvert->jupyter>=1.0.0->-r requirements.txt (line 1)) (0.6.0)\n",
            "Requirement already satisfied: pandocfilters>=1.4.1 in /usr/local/lib/python3.8/dist-packages (from nbconvert->jupyter>=1.0.0->-r requirements.txt (line 1)) (1.5.0)\n",
            "Requirement already satisfied: jupyter-core in /usr/local/lib/python3.8/dist-packages (from nbconvert->jupyter>=1.0.0->-r requirements.txt (line 1)) (5.1.3)\n",
            "Requirement already satisfied: defusedxml in /usr/local/lib/python3.8/dist-packages (from nbconvert->jupyter>=1.0.0->-r requirements.txt (line 1)) (0.7.1)\n",
            "Requirement already satisfied: jinja2>=2.4 in /usr/local/lib/python3.8/dist-packages (from nbconvert->jupyter>=1.0.0->-r requirements.txt (line 1)) (2.11.3)\n",
            "Requirement already satisfied: bleach in /usr/local/lib/python3.8/dist-packages (from nbconvert->jupyter>=1.0.0->-r requirements.txt (line 1)) (5.0.1)\n",
            "Requirement already satisfied: entrypoints>=0.2.2 in /usr/local/lib/python3.8/dist-packages (from nbconvert->jupyter>=1.0.0->-r requirements.txt (line 1)) (0.4)\n",
            "Requirement already satisfied: mistune<2,>=0.8.1 in /usr/local/lib/python3.8/dist-packages (from nbconvert->jupyter>=1.0.0->-r requirements.txt (line 1)) (0.8.4)\n",
            "Requirement already satisfied: pyzmq>=17 in /usr/local/lib/python3.8/dist-packages (from notebook->jupyter>=1.0.0->-r requirements.txt (line 1)) (23.2.1)\n",
            "Requirement already satisfied: terminado>=0.8.1 in /usr/local/lib/python3.8/dist-packages (from notebook->jupyter>=1.0.0->-r requirements.txt (line 1)) (0.13.3)\n",
            "Requirement already satisfied: prometheus-client in /usr/local/lib/python3.8/dist-packages (from notebook->jupyter>=1.0.0->-r requirements.txt (line 1)) (0.15.0)\n",
            "Requirement already satisfied: Send2Trash in /usr/local/lib/python3.8/dist-packages (from notebook->jupyter>=1.0.0->-r requirements.txt (line 1)) (1.8.0)\n",
            "Collecting qtpy>=2.0.1\n",
            "  Downloading QtPy-2.3.0-py3-none-any.whl (83 kB)\n",
            "\u001b[2K     \u001b[90m━━━━━━━━━━━━━━━━━━━━━━━━━━━━━━━━━━━━━━━━\u001b[0m \u001b[32m83.6/83.6 KB\u001b[0m \u001b[31m13.4 MB/s\u001b[0m eta \u001b[36m0:00:00\u001b[0m\n",
            "\u001b[?25hRequirement already satisfied: async-timeout<5.0,>=4.0.0a3 in /usr/local/lib/python3.8/dist-packages (from aiohttp!=4.0.0a0,!=4.0.0a1->fsspec[http]>2021.06.0->pytorch-lightning>=1.2.8->-r requirements.txt (line 6)) (4.0.2)\n",
            "Requirement already satisfied: multidict<7.0,>=4.5 in /usr/local/lib/python3.8/dist-packages (from aiohttp!=4.0.0a0,!=4.0.0a1->fsspec[http]>2021.06.0->pytorch-lightning>=1.2.8->-r requirements.txt (line 6)) (6.0.4)\n",
            "Requirement already satisfied: charset-normalizer<3.0,>=2.0 in /usr/local/lib/python3.8/dist-packages (from aiohttp!=4.0.0a0,!=4.0.0a1->fsspec[http]>2021.06.0->pytorch-lightning>=1.2.8->-r requirements.txt (line 6)) (2.1.1)\n",
            "Requirement already satisfied: attrs>=17.3.0 in /usr/local/lib/python3.8/dist-packages (from aiohttp!=4.0.0a0,!=4.0.0a1->fsspec[http]>2021.06.0->pytorch-lightning>=1.2.8->-r requirements.txt (line 6)) (22.2.0)\n",
            "Requirement already satisfied: frozenlist>=1.1.1 in /usr/local/lib/python3.8/dist-packages (from aiohttp!=4.0.0a0,!=4.0.0a1->fsspec[http]>2021.06.0->pytorch-lightning>=1.2.8->-r requirements.txt (line 6)) (1.3.3)\n",
            "Requirement already satisfied: yarl<2.0,>=1.0 in /usr/local/lib/python3.8/dist-packages (from aiohttp!=4.0.0a0,!=4.0.0a1->fsspec[http]>2021.06.0->pytorch-lightning>=1.2.8->-r requirements.txt (line 6)) (1.8.2)\n",
            "Requirement already satisfied: aiosignal>=1.1.2 in /usr/local/lib/python3.8/dist-packages (from aiohttp!=4.0.0a0,!=4.0.0a1->fsspec[http]>2021.06.0->pytorch-lightning>=1.2.8->-r requirements.txt (line 6)) (1.3.1)\n",
            "Requirement already satisfied: pickleshare in /usr/local/lib/python3.8/dist-packages (from ipython>=4.0.0->ipywidgets->jupyter>=1.0.0->-r requirements.txt (line 1)) (0.7.5)\n",
            "Requirement already satisfied: setuptools>=18.5 in /usr/local/lib/python3.8/dist-packages (from ipython>=4.0.0->ipywidgets->jupyter>=1.0.0->-r requirements.txt (line 1)) (57.4.0)\n",
            "Requirement already satisfied: pexpect in /usr/local/lib/python3.8/dist-packages (from ipython>=4.0.0->ipywidgets->jupyter>=1.0.0->-r requirements.txt (line 1)) (4.8.0)\n",
            "Collecting jedi>=0.10\n",
            "  Downloading jedi-0.18.2-py2.py3-none-any.whl (1.6 MB)\n",
            "\u001b[2K     \u001b[90m━━━━━━━━━━━━━━━━━━━━━━━━━━━━━━━━━━━━━━━━\u001b[0m \u001b[32m1.6/1.6 MB\u001b[0m \u001b[31m89.6 MB/s\u001b[0m eta \u001b[36m0:00:00\u001b[0m\n",
            "\u001b[?25hRequirement already satisfied: backcall in /usr/local/lib/python3.8/dist-packages (from ipython>=4.0.0->ipywidgets->jupyter>=1.0.0->-r requirements.txt (line 1)) (0.2.0)\n",
            "Requirement already satisfied: MarkupSafe>=0.23 in /usr/local/lib/python3.8/dist-packages (from jinja2>=2.4->nbconvert->jupyter>=1.0.0->-r requirements.txt (line 1)) (2.0.1)\n",
            "Requirement already satisfied: platformdirs>=2.5 in /usr/local/lib/python3.8/dist-packages (from jupyter-core->nbconvert->jupyter>=1.0.0->-r requirements.txt (line 1)) (2.6.2)\n",
            "Requirement already satisfied: jsonschema>=2.6 in /usr/local/lib/python3.8/dist-packages (from nbformat>=4.4->nbconvert->jupyter>=1.0.0->-r requirements.txt (line 1)) (4.3.3)\n",
            "Requirement already satisfied: fastjsonschema in /usr/local/lib/python3.8/dist-packages (from nbformat>=4.4->nbconvert->jupyter>=1.0.0->-r requirements.txt (line 1)) (2.16.2)\n",
            "Requirement already satisfied: wcwidth in /usr/local/lib/python3.8/dist-packages (from prompt-toolkit!=3.0.0,!=3.0.1,<3.1.0,>=2.0.0->jupyter-console->jupyter>=1.0.0->-r requirements.txt (line 1)) (0.2.5)\n",
            "Requirement already satisfied: ptyprocess in /usr/local/lib/python3.8/dist-packages (from terminado>=0.8.1->notebook->jupyter>=1.0.0->-r requirements.txt (line 1)) (0.7.0)\n",
            "Requirement already satisfied: webencodings in /usr/local/lib/python3.8/dist-packages (from bleach->nbconvert->jupyter>=1.0.0->-r requirements.txt (line 1)) (0.5.1)\n",
            "Requirement already satisfied: parso<0.9.0,>=0.8.0 in /usr/local/lib/python3.8/dist-packages (from jedi>=0.10->ipython>=4.0.0->ipywidgets->jupyter>=1.0.0->-r requirements.txt (line 1)) (0.8.3)\n",
            "Requirement already satisfied: importlib-resources>=1.4.0 in /usr/local/lib/python3.8/dist-packages (from jsonschema>=2.6->nbformat>=4.4->nbconvert->jupyter>=1.0.0->-r requirements.txt (line 1)) (5.10.2)\n",
            "Requirement already satisfied: pyrsistent!=0.17.0,!=0.17.1,!=0.17.2,>=0.14.0 in /usr/local/lib/python3.8/dist-packages (from jsonschema>=2.6->nbformat>=4.4->nbconvert->jupyter>=1.0.0->-r requirements.txt (line 1)) (0.19.3)\n",
            "Requirement already satisfied: zipp>=3.1.0 in /usr/local/lib/python3.8/dist-packages (from importlib-resources>=1.4.0->jsonschema>=2.6->nbformat>=4.4->nbconvert->jupyter>=1.0.0->-r requirements.txt (line 1)) (3.11.0)\n",
            "Building wheels for collected packages: PyOpenGL, moviepy\n",
            "  Building wheel for PyOpenGL (setup.py) ... \u001b[?25l\u001b[?25hdone\n",
            "  Created wheel for PyOpenGL: filename=PyOpenGL-3.1.0-py3-none-any.whl size=1745210 sha256=73d06542eb8ae39086c59f2522ae335b0573097dd7714d97c861886c5c4b1489\n",
            "  Stored in directory: /root/.cache/pip/wheels/85/ff/54/41f30bb227befd3dde302de39f9ba042589e8b4f93723107f2\n",
            "  Building wheel for moviepy (setup.py) ... \u001b[?25l\u001b[?25hdone\n",
            "  Created wheel for moviepy: filename=moviepy-1.0.3-py3-none-any.whl size=110742 sha256=3869cb210b56480ce4ee57de960162d65b683d17697505d17e7e09786d3e5247\n",
            "  Stored in directory: /root/.cache/pip/wheels/e4/a4/db/0368d3a04033da662e13926594b3a8cf1aa4ffeefe570cfac1\n",
            "Successfully built PyOpenGL moviepy\n",
            "Installing collected packages: PyOpenGL, pyglet, trimesh, traittypes, proglog, pillow, jedi, imageio_ffmpeg, freetype-py, fonttools, contourpy, torchmetrics, qtpy, matplotlib, lightning-utilities, pyrender, moviepy, qtconsole, pytorch-lightning, K3D, jupyter\n",
            "  Attempting uninstall: PyOpenGL\n",
            "    Found existing installation: PyOpenGL 3.1.6\n",
            "    Uninstalling PyOpenGL-3.1.6:\n",
            "      Successfully uninstalled PyOpenGL-3.1.6\n",
            "  Attempting uninstall: pillow\n",
            "    Found existing installation: Pillow 7.1.2\n",
            "    Uninstalling Pillow-7.1.2:\n",
            "      Successfully uninstalled Pillow-7.1.2\n",
            "  Attempting uninstall: matplotlib\n",
            "    Found existing installation: matplotlib 3.2.2\n",
            "    Uninstalling matplotlib-3.2.2:\n",
            "      Successfully uninstalled matplotlib-3.2.2\n",
            "  Attempting uninstall: moviepy\n",
            "    Found existing installation: moviepy 0.2.3.5\n",
            "    Uninstalling moviepy-0.2.3.5:\n",
            "      Successfully uninstalled moviepy-0.2.3.5\n",
            "Successfully installed K3D-2.15.2 PyOpenGL-3.1.0 contourpy-1.0.7 fonttools-4.38.0 freetype-py-2.3.0 imageio_ffmpeg-0.4.8 jedi-0.18.2 jupyter-1.0.0 lightning-utilities-0.5.0 matplotlib-3.6.3 moviepy-1.0.3 pillow-9.4.0 proglog-0.1.10 pyglet-2.0.3 pyrender-0.1.45 pytorch-lightning-1.9.0 qtconsole-5.4.0 qtpy-2.3.0 torchmetrics-0.11.0 traittypes-0.2.1 trimesh-3.18.1\n"
          ]
        },
        {
          "output_type": "display_data",
          "data": {
            "application/vnd.colab-display-data+json": {
              "pip_warning": {
                "packages": [
                  "PIL",
                  "matplotlib",
                  "mpl_toolkits"
                ]
              }
            }
          },
          "metadata": {}
        }
      ],
      "source": [
        "import os\n",
        "from google.colab import drive\n",
        "drive.mount('/content/drive', force_remount=True)\n",
        "\n",
        "# We assume you uploaded the exercise folder in root Google Drive folder\n",
        "!cp -r /content/drive/MyDrive/3d-lmnet-pytorch 3d-lmnet-pytorch\n",
        "os.chdir('/content/drive/MyDrive/3d-lmnet-pytorch')\n",
        "print('Installing requirements')\n",
        "!pip install -r requirements.txt\n",
        "\n",
        "# Make sure you restart runtime when directed by Colab"
      ]
    },
    {
      "cell_type": "code",
      "execution_count": 1,
      "metadata": {
        "colab": {
          "base_uri": "https://localhost:8080/"
        },
        "id": "9jmMRX90tj2P",
        "outputId": "158c5033-182b-454e-a004-cfa5a9317634"
      },
      "outputs": [
        {
          "output_type": "stream",
          "name": "stdout",
          "text": [
            "CUDA availability: True\n"
          ]
        }
      ],
      "source": [
        "import os\n",
        "import sys\n",
        "import torch\n",
        "os.chdir('/content/3d-lmnet-pytorch/3d-lmnet-pytorch')\n",
        "sys.path.insert(1, \"/content/3d-lmnet-pytorch/3d-lmnet-pytorch\")\n",
        "print('CUDA availability:', torch.cuda.is_available())"
      ]
    },
    {
      "cell_type": "code",
      "execution_count": 2,
      "metadata": {
        "id": "eXCyGAKZtrLd"
      },
      "outputs": [],
      "source": [
        "%load_ext autoreload\n",
        "%autoreload 2\n",
        "from pathlib import Path\n",
        "import numpy as np\n",
        "import matplotlib as plt\n",
        "import k3d\n",
        "import trimesh\n",
        "import torch\n",
        "import skimage"
      ]
    },
    {
      "cell_type": "code",
      "execution_count": 3,
      "metadata": {
        "id": "9mlePuTzttf0"
      },
      "outputs": [],
      "source": [
        "torch.cuda.is_available()\n",
        "need_pytorch3d=False\n",
        "try:\n",
        "    import pytorch3d\n",
        "except ModuleNotFoundError:\n",
        "    need_pytorch3d=True\n",
        "if need_pytorch3d:\n",
        "    if sys.platform.startswith(\"linux\"):\n",
        "        # We try to install PyTorch3D via a released wheel.\n",
        "        pyt_version_str=torch.__version__.split(\"+\")[0].replace(\".\", \"\")\n",
        "        version_str=\"\".join([\n",
        "            f\"py3{sys.version_info.minor}_cu\",\n",
        "            torch.version.cuda.replace(\".\",\"\"),\n",
        "            f\"_pyt{pyt_version_str}\"\n",
        "        ])\n",
        "        !pip install pytorch3d -f https://dl.fbaipublicfiles.com/pytorch3d/packaging/wheels/{version_str}/download.html\n",
        "    else:\n",
        "        # We try to install PyTorch3D from source.\n",
        "        !curl -LO https://github.com/NVIDIA/cub/archive/1.10.0.tar.gz\n",
        "        !tar xzf 1.10.0.tar.gz\n",
        "        os.environ[\"CUB_HOME\"] = os.getcwd() + \"/cub-1.10.0\"\n",
        "        !pip install 'git+https://github.com/facebookresearch/pytorch3d.git@stable'"
      ]
    },
    {
      "cell_type": "markdown",
      "metadata": {
        "id": "zUT-2sxV3ojS"
      },
      "source": [
        "## ShapeNet Terms and Conditions\n",
        "\n",
        "In order to be able to use the data, we agree the below terms and conditions:\n",
        "\n",
        "1. Researcher shall use the Database only for non-commercial research and educational purposes.\n",
        "2. Princeton University and Stanford University make no representations or warranties regarding the Database, including but not limited to warranties of non-infringement or fitness for a particular purpose.\n",
        "3. Researcher accepts full responsibility for his or her use of the Database and shall defend and indemnify Princeton University and Stanford University, including their employees, Trustees, officers and agents, against any and all claims arising from Researcher's use of the Database, including but not limited to Researcher's use of any copies of copyrighted 3D models that he or she may create from the Database.\n",
        "4. Researcher may provide research associates and colleagues with access to the Database provided that they first agree to be bound by these terms and conditions.\n",
        "5. Princeton University and Stanford University reserve the right to terminate Researcher's access to the Database at any time.\n",
        "6. If Researcher is employed by a for-profit, commercial entity, Researcher's employer shall also be bound by these terms and conditions, and Researcher hereby represents that he or she is fully authorized to enter into this agreement on behalf of such employer.\n",
        "7. The law of the State of New Jersey shall apply to all disputes under this agreement."
      ]
    },
    {
      "cell_type": "markdown",
      "metadata": {
        "id": "aU6UFVmB2sDw"
      },
      "source": [
        "### Unzip ShapeNet pointcloud zip"
      ]
    },
    {
      "cell_type": "code",
      "execution_count": 4,
      "metadata": {
        "id": "yHN_mJLtJYkz"
      },
      "outputs": [],
      "source": [
        "!unzip -q ./data/ShapeNet_pointclouds.zip -d ./data"
      ]
    },
    {
      "cell_type": "markdown",
      "metadata": {
        "id": "gnY06WQ92yzn"
      },
      "source": [
        "### Download 2D images"
      ]
    },
    {
      "cell_type": "code",
      "execution_count": 5,
      "metadata": {
        "colab": {
          "base_uri": "https://localhost:8080/"
        },
        "id": "WGwtTRnW40w_",
        "outputId": "638c3d05-b9ab-4fd5-ac16-cd60c439a3e6"
      },
      "outputs": [
        {
          "output_type": "stream",
          "name": "stdout",
          "text": [
            "--2023-01-19 09:45:37--  http://cvgl.stanford.edu/data2/ShapeNetRendering.tgz\n",
            "Resolving cvgl.stanford.edu (cvgl.stanford.edu)... 171.64.64.64\n",
            "Connecting to cvgl.stanford.edu (cvgl.stanford.edu)|171.64.64.64|:80... connected.\n",
            "HTTP request sent, awaiting response... 301 Moved Permanently\n",
            "Location: https://cvgl.stanford.edu/data2/ShapeNetRendering.tgz [following]\n",
            "--2023-01-19 09:45:37--  https://cvgl.stanford.edu/data2/ShapeNetRendering.tgz\n",
            "Connecting to cvgl.stanford.edu (cvgl.stanford.edu)|171.64.64.64|:443... connected.\n",
            "HTTP request sent, awaiting response... 200 OK\n",
            "Length: 12318245442 (11G) [application/x-gzip]\n",
            "Saving to: ‘./data/ShapeNetRendering.tgz’\n",
            "\n",
            "ShapeNetRendering.t 100%[===================>]  11.47G  12.4MB/s    in 17m 19s \n",
            "\n",
            "2023-01-19 10:02:56 (11.3 MB/s) - ‘./data/ShapeNetRendering.tgz’ saved [12318245442/12318245442]\n",
            "\n"
          ]
        }
      ],
      "source": [
        "!wget http://cvgl.stanford.edu/data2/ShapeNetRendering.tgz -P ./data"
      ]
    },
    {
      "cell_type": "code",
      "execution_count": 6,
      "metadata": {
        "id": "BdDWzJHLAcDz"
      },
      "outputs": [],
      "source": [
        "!tar -xf ./data/ShapeNetRendering.tgz -C ./data\n",
        "#!rm /content/term-project/data/ShapeNetRendering.tgz"
      ]
    },
    {
      "cell_type": "markdown",
      "metadata": {
        "id": "9WpwE3tS22bA"
      },
      "source": [
        "### Construct ShapeNet dataset"
      ]
    },
    {
      "cell_type": "code",
      "execution_count": 4,
      "metadata": {
        "colab": {
          "base_uri": "https://localhost:8080/"
        },
        "id": "pKdGd1kvv7ub",
        "outputId": "2cde0feb-8ee3-48c9-e9d1-4890d9a1af99"
      },
      "outputs": [
        {
          "output_type": "stream",
          "name": "stdout",
          "text": [
            "Length of train set: 26271\n",
            "Length of val set: 8758\n",
            "Length of test set: 8755\n"
          ]
        }
      ],
      "source": [
        "from data.shapenet import ShapeNet\n",
        "\n",
        "# Create a dataset with train split\n",
        "train_dataset = ShapeNet('train')\n",
        "val_dataset = ShapeNet('valid')\n",
        "#overfit_dataset = ShapeNet('overfit')\n",
        "test_dataset = ShapeNet('test')\n",
        "\n",
        "# Get length, which is a call to __len__ function\n",
        "print(f'Length of train set: {len(train_dataset)}') \n",
        "# Get length, which is a call to __len__ function\n",
        "print(f'Length of val set: {len(val_dataset)}') \n",
        "# Get length, which is a call to __len__ function\n",
        "print(f'Length of test set: {len(test_dataset)}')  "
      ]
    },
    {
      "cell_type": "code",
      "execution_count": 5,
      "metadata": {
        "colab": {
          "base_uri": "https://localhost:8080/"
        },
        "id": "-enEihrj4z-T",
        "outputId": "9c11ceb6-61cc-406f-dc13-78be83a63ba4"
      },
      "outputs": [
        {
          "output_type": "stream",
          "name": "stdout",
          "text": [
            "Input images: (3, 128, 128)\n",
            "Input point cloud: (2048, 3)\n"
          ]
        }
      ],
      "source": [
        "\n",
        "from skimage.measure import marching_cubes\n",
        "\n",
        "train_sample = train_dataset[1]\n",
        "print(f'Input images: {train_sample[\"img\"].shape}')  \n",
        "print(f'Input point cloud: {train_sample[\"point\"].shape}')  "
      ]
    },
    {
      "cell_type": "markdown",
      "metadata": {
        "id": "_s5meRr62_S1"
      },
      "source": [
        "### Print output shape of the 2D Encoder model (both variational and normal versions)"
      ]
    },
    {
      "cell_type": "code",
      "execution_count": 6,
      "metadata": {
        "colab": {
          "base_uri": "https://localhost:8080/"
        },
        "id": "W5zhCIIZlEui",
        "outputId": "3b7e6ab9-6762-4efb-b6a6-433ec09cfa2d"
      },
      "outputs": [
        {
          "output_type": "stream",
          "name": "stdout",
          "text": [
            "input size: torch.Size([1, 3, 128, 128])\n",
            "Mu size: torch.Size([1, 128]) Std size: torch.Size([1, 128])\n",
            "----------------------------------------------------------------\n",
            "        Layer (type)               Output Shape         Param #\n",
            "================================================================\n",
            "            Conv2d-1         [-1, 32, 128, 128]             896\n",
            "              ReLU-2         [-1, 32, 128, 128]               0\n",
            "            Conv2d-3         [-1, 32, 128, 128]           9,248\n",
            "              ReLU-4         [-1, 32, 128, 128]               0\n",
            "            Conv2d-5           [-1, 64, 63, 63]          18,496\n",
            "              ReLU-6           [-1, 64, 63, 63]               0\n",
            "            Conv2d-7           [-1, 64, 63, 63]          36,928\n",
            "              ReLU-8           [-1, 64, 63, 63]               0\n",
            "            Conv2d-9           [-1, 64, 63, 63]          36,928\n",
            "             ReLU-10           [-1, 64, 63, 63]               0\n",
            "           Conv2d-11          [-1, 128, 31, 31]          73,856\n",
            "             ReLU-12          [-1, 128, 31, 31]               0\n",
            "           Conv2d-13          [-1, 128, 31, 31]         147,584\n",
            "             ReLU-14          [-1, 128, 31, 31]               0\n",
            "           Conv2d-15          [-1, 128, 31, 31]         147,584\n",
            "             ReLU-16          [-1, 128, 31, 31]               0\n",
            "           Conv2d-17          [-1, 256, 15, 15]         295,168\n",
            "             ReLU-18          [-1, 256, 15, 15]               0\n",
            "           Conv2d-19          [-1, 256, 15, 15]         590,080\n",
            "             ReLU-20          [-1, 256, 15, 15]               0\n",
            "           Conv2d-21          [-1, 256, 15, 15]         590,080\n",
            "             ReLU-22          [-1, 256, 15, 15]               0\n",
            "           Conv2d-23            [-1, 512, 7, 7]       1,180,160\n",
            "             ReLU-24            [-1, 512, 7, 7]               0\n",
            "           Conv2d-25            [-1, 512, 7, 7]       2,359,808\n",
            "             ReLU-26            [-1, 512, 7, 7]               0\n",
            "           Conv2d-27            [-1, 512, 7, 7]       2,359,808\n",
            "             ReLU-28            [-1, 512, 7, 7]               0\n",
            "           Conv2d-29            [-1, 512, 7, 7]       2,359,808\n",
            "             ReLU-30            [-1, 512, 7, 7]               0\n",
            "           Conv2d-31            [-1, 512, 2, 2]       6,554,112\n",
            "           Linear-32                  [-1, 128]         262,272\n",
            "           Linear-33                  [-1, 128]         262,272\n",
            "================================================================\n",
            "Total params: 17,285,088\n",
            "Trainable params: 17,285,088\n",
            "Non-trainable params: 0\n",
            "----------------------------------------------------------------\n",
            "Input size (MB): 0.19\n",
            "Forward/backward pass size (MB): 37.44\n",
            "Params size (MB): 65.94\n",
            "Estimated Total Size (MB): 103.57\n",
            "----------------------------------------------------------------\n",
            "Latent shape: torch.Size([1, 128])\n"
          ]
        }
      ],
      "source": [
        "from model.model_2d import ImageEncoder\n",
        "from torchsummary import summary\n",
        "\n",
        "model2d_variational=ImageEncoder(\"variational\",128)\n",
        "model2d_variational.cuda()\n",
        "input_tensor = torch.randn(1,3,128,128)\n",
        "input_tensor=input_tensor.cuda()\n",
        "print(\"input size:\",input_tensor.size())\n",
        "\n",
        "\n",
        "mu,std = model2d_variational(input_tensor)\n",
        "print(\"Mu size:\",mu.size(),\"Std size:\",std.size())\n",
        "summary(model2d_variational,(3,128,128))\n",
        "model2d_normal=ImageEncoder(\"normal\",128)\n",
        "model2d_normal.cuda()\n",
        "latent=model2d_normal(input_tensor)\n",
        "print(\"Latent shape:\",latent.size())"
      ]
    },
    {
      "cell_type": "markdown",
      "metadata": {
        "id": "XhQwt86S3KLX"
      },
      "source": [
        "### Train 2D Encoder model to match the predicted latent space to the output of 3D Encoder of pointclouds"
      ]
    },
    {
      "cell_type": "markdown",
      "source": [
        "Normal, L1 loss"
      ],
      "metadata": {
        "id": "uvuWag580_fw"
      }
    },
    {
      "cell_type": "code",
      "execution_count": null,
      "metadata": {
        "id": "H5AfhbLEnbIt"
      },
      "outputs": [],
      "source": [
        "from training import train_2d_to_3d\n",
        "\n",
        "generalization_config = {\n",
        "    'experiment_name': '/content/drive/MyDrive/3d-lmnet-pytorch/3d-lmnet-pytorch/2d_logs/normal/L1',\n",
        "    'device': 'cuda:0',  # run this on a gpu for a reasonable training time\n",
        "    'is_overfit': False,\n",
        "    'bottleneck': 512,\n",
        "    \"cat\":13,\n",
        "    'batch_size': 32,\n",
        "    \"loss_criterion\":\"L1\",\n",
        "    \"final_layer\":\"normal\",\n",
        "    \"3d_encoder_path\":\"/content/3d-lmnet-pytorch/3d-lmnet-pytorch/additional_epoches/model_epoch_500.pth\",\n",
        "    'resume_ckpt': None,\n",
        "    'learning_rate_model':  0.00005,\n",
        "    'max_epochs': 30,  \n",
        "    'save_every_n': 5,\n",
        "    'validate_every_n': 3,\n",
        "    \"autoencoder_bottleneck\":512,\n",
        "    \"autoencoder_hidden_size\":256,\n",
        "    \"autoencoder_output_size\":2048*3,\n",
        "    \"alpha\":None,\n",
        "    \"penalty_angle\":None,\n",
        "    \"lambda\":None\n",
        "\n",
        "\n",
        "}\n",
        "\n",
        "train_2d_to_3d.main(generalization_config)"
      ]
    },
    {
      "cell_type": "markdown",
      "source": [
        "Normal, L2 loss"
      ],
      "metadata": {
        "id": "0UT6VzUJ1TKB"
      }
    },
    {
      "cell_type": "code",
      "source": [
        "from training import train_2d_to_3d\n",
        "\n",
        "generalization_config = {\n",
        "    'experiment_name': '/content/drive/MyDrive/3d-lmnet-pytorch/3d-lmnet-pytorch/2d_logs/normal/L2',\n",
        "    'device': 'cuda:0',  # run this on a gpu for a reasonable training time\n",
        "    'is_overfit': False,\n",
        "    'bottleneck': 512,\n",
        "    \"cat\":13,\n",
        "    'batch_size': 32,\n",
        "    \"loss_criterion\":\"L2\",\n",
        "    \"final_layer\":\"normal\",\n",
        "    \"3d_encoder_path\":\"/content/3d-lmnet-pytorch/3d-lmnet-pytorch/logs/model_epoch_500.pth\",\n",
        "    'resume_ckpt': None,\n",
        "    'learning_rate_model':  0.00005,\n",
        "    'max_epochs': 30,  \n",
        "    'save_every_n': 1,\n",
        "    'validate_every_n': 5,\n",
        "    \"autoencoder_bottleneck\":512,\n",
        "    \"autoencoder_hidden_size\":256,\n",
        "    \"autoencoder_output_size\":2048*3,\n",
        "    \"alpha\":None,\n",
        "    \"penalty_angle\":None,\n",
        "    \"lambda\":None\n",
        "\n",
        "\n",
        "}\n",
        "\n",
        "train_2d_to_3d.main(generalization_config)"
      ],
      "metadata": {
        "id": "fHNSisYe1VFg",
        "colab": {
          "base_uri": "https://localhost:8080/"
        },
        "outputId": "6b04c3e1-78d7-48a0-ac1e-8c257e1b4a1c"
      },
      "execution_count": null,
      "outputs": [
        {
          "output_type": "stream",
          "name": "stdout",
          "text": [
            "Using device: cuda:0\n",
            " initial input 512 initial hidden 256 initial output 6144\n",
            "Epoch 1/30 with iteration 100/19703: CD loss is 0.0033234222792088985.\n",
            "Epoch 1/30 with iteration 200/19703: CD loss is 0.002913238015025854.\n",
            "Epoch 1/30 with iteration 300/19703: CD loss is 0.00305278692394495.\n",
            "Epoch 1/30 with iteration 400/19703: CD loss is 0.0031200689263641834.\n",
            "Epoch 1/30 with iteration 500/19703: CD loss is 0.0028260741382837296.\n",
            "Epoch 1/30 with iteration 600/19703: CD loss is 0.002543890615925193.\n",
            "Epoch 1/30 with iteration 700/19703: CD loss is 0.002885582856833935.\n",
            "Epoch 1/30 with iteration 800/19703: CD loss is 0.0023992990609258413.\n",
            "Epoch 1/30 with iteration 900/19703: CD loss is 0.0026208781637251377.\n",
            "Epoch 1/30 with iteration 1000/19703: CD loss is 0.0023291660472750664.\n",
            "Epoch 1/30 with iteration 1100/19703: CD loss is 0.00226319907233119.\n",
            "Epoch 1/30 with iteration 1200/19703: CD loss is 0.002591541036963463.\n",
            "Epoch 1/30 with iteration 1300/19703: CD loss is 0.0022245284635573626.\n",
            "Epoch 1/30 with iteration 1400/19703: CD loss is 0.00366972666233778.\n",
            "Epoch 1/30 with iteration 1500/19703: CD loss is 0.0018995122518390417.\n",
            "Epoch 1/30 with iteration 1600/19703: CD loss is 0.002506379736587405.\n",
            "Epoch 1/30 with iteration 1700/19703: CD loss is 0.0023595155216753483.\n",
            "Epoch 1/30 with iteration 1800/19703: CD loss is 0.0024899751879274845.\n",
            "Epoch 1/30 with iteration 1900/19703: CD loss is 0.0021012690849602222.\n",
            "Epoch 1/30 with iteration 2000/19703: CD loss is 0.001986000221222639.\n",
            "Epoch 1/30 with iteration 2100/19703: CD loss is 0.0016909954138100147.\n",
            "Epoch 1/30 with iteration 2200/19703: CD loss is 0.0021781749092042446.\n",
            "Epoch 1/30 with iteration 2300/19703: CD loss is 0.002601184882223606.\n",
            "Epoch 1/30 with iteration 2400/19703: CD loss is 0.0019159286748617887.\n",
            "Epoch 1/30 with iteration 2500/19703: CD loss is 0.0018460340797901154.\n",
            "Epoch 1/30 with iteration 2600/19703: CD loss is 0.0016247180756181479.\n",
            "Epoch 1/30 with iteration 2700/19703: CD loss is 0.002478343900293112.\n",
            "Epoch 1/30 with iteration 2800/19703: CD loss is 0.0021909349597990513.\n",
            "Epoch 1/30 with iteration 2900/19703: CD loss is 0.002103575970977545.\n",
            "Epoch 1/30 with iteration 3000/19703: CD loss is 0.002155081368982792.\n",
            "Epoch 1/30 with iteration 3100/19703: CD loss is 0.002091331873089075.\n",
            "Epoch 1/30 with iteration 3200/19703: CD loss is 0.0018891235813498497.\n",
            "Epoch 1/30 with iteration 3300/19703: CD loss is 0.0019142577657476068.\n",
            "Epoch 1/30 with iteration 3400/19703: CD loss is 0.0025463311467319727.\n",
            "Epoch 1/30 with iteration 3500/19703: CD loss is 0.001636589178815484.\n",
            "Epoch 1/30 with iteration 3600/19703: CD loss is 0.0019073686562478542.\n",
            "Epoch 1/30 with iteration 3700/19703: CD loss is 0.002542828442528844.\n",
            "Epoch 1/30 with iteration 3800/19703: CD loss is 0.00217275507748127.\n",
            "Epoch 1/30 with iteration 3900/19703: CD loss is 0.0018408820033073425.\n",
            "Epoch 1/30 with iteration 4000/19703: CD loss is 0.0019021627958863974.\n",
            "Epoch 1/30 with iteration 4100/19703: CD loss is 0.0016662625130265951.\n",
            "Epoch 1/30 with iteration 4200/19703: CD loss is 0.0021076027769595385.\n",
            "Epoch 1/30 with iteration 4300/19703: CD loss is 0.00222380505874753.\n",
            "Epoch 1/30 with iteration 4400/19703: CD loss is 0.0019456911832094193.\n",
            "Epoch 1/30 with iteration 4500/19703: CD loss is 0.002012181095778942.\n",
            "Epoch 1/30 with iteration 4600/19703: CD loss is 0.001961424946784973.\n",
            "Epoch 1/30 with iteration 4700/19703: CD loss is 0.0023692194372415543.\n",
            "Epoch 1/30 with iteration 4800/19703: CD loss is 0.001791476272046566.\n",
            "Epoch 1/30 with iteration 4900/19703: CD loss is 0.0020483245607465506.\n",
            "Epoch 1/30 with iteration 5000/19703: CD loss is 0.0021570995450019836.\n",
            "Epoch 1/30 with iteration 5100/19703: CD loss is 0.0017104833386838436.\n",
            "Epoch 1/30 with iteration 5200/19703: CD loss is 0.0017852575983852148.\n",
            "Epoch 1/30 with iteration 5300/19703: CD loss is 0.0023424741812050343.\n",
            "Epoch 1/30 with iteration 5400/19703: CD loss is 0.0017755684675648808.\n",
            "Epoch 1/30 with iteration 5500/19703: CD loss is 0.0018359824316576123.\n",
            "Epoch 1/30 with iteration 5600/19703: CD loss is 0.0016547279665246606.\n",
            "Epoch 1/30 with iteration 5700/19703: CD loss is 0.0015997362788766623.\n",
            "Epoch 1/30 with iteration 5800/19703: CD loss is 0.00212025735527277.\n",
            "Epoch 1/30 with iteration 5900/19703: CD loss is 0.0021318343933671713.\n",
            "Epoch 1/30 with iteration 6000/19703: CD loss is 0.0016186692519113421.\n",
            "Epoch 1/30 with iteration 6100/19703: CD loss is 0.0017697981093078852.\n",
            "Epoch 1/30 with iteration 6200/19703: CD loss is 0.0020788623951375484.\n",
            "Epoch 1/30 with iteration 6300/19703: CD loss is 0.0017115978989750147.\n",
            "Epoch 1/30 with iteration 6400/19703: CD loss is 0.0015477580018341541.\n",
            "Epoch 1/30 with iteration 6500/19703: CD loss is 0.0019665812142193317.\n",
            "Epoch 1/30 with iteration 6600/19703: CD loss is 0.0015971167013049126.\n",
            "Epoch 1/30 with iteration 6700/19703: CD loss is 0.002148603554815054.\n",
            "Epoch 1/30 with iteration 6800/19703: CD loss is 0.0024000825360417366.\n",
            "Epoch 1/30 with iteration 6900/19703: CD loss is 0.0015466040931642056.\n",
            "Epoch 1/30 with iteration 7000/19703: CD loss is 0.0022246551234275103.\n",
            "Epoch 1/30 with iteration 7100/19703: CD loss is 0.0018108353251591325.\n",
            "Epoch 1/30 with iteration 7200/19703: CD loss is 0.002162650693207979.\n",
            "Epoch 1/30 with iteration 7300/19703: CD loss is 0.001977232052013278.\n",
            "Epoch 1/30 with iteration 7400/19703: CD loss is 0.0017008546274155378.\n",
            "Epoch 1/30 with iteration 7500/19703: CD loss is 0.0014597655972465873.\n",
            "Epoch 1/30 with iteration 7600/19703: CD loss is 0.0015528751537203789.\n",
            "Epoch 1/30 with iteration 7700/19703: CD loss is 0.0017393090529367328.\n",
            "Epoch 1/30 with iteration 7800/19703: CD loss is 0.0023877350613474846.\n",
            "Epoch 1/30 with iteration 7900/19703: CD loss is 0.0018054386600852013.\n",
            "Epoch 1/30 with iteration 8000/19703: CD loss is 0.0017324474174529314.\n",
            "Epoch 1/30 with iteration 8100/19703: CD loss is 0.0019875927828252316.\n",
            "Epoch 1/30 with iteration 8200/19703: CD loss is 0.0017283973284065723.\n",
            "Epoch 1/30 with iteration 8300/19703: CD loss is 0.002218198496848345.\n",
            "Epoch 1/30 with iteration 8400/19703: CD loss is 0.0014410563744604588.\n",
            "Epoch 1/30 with iteration 8500/19703: CD loss is 0.0016561999218538404.\n",
            "Epoch 1/30 with iteration 8600/19703: CD loss is 0.0018063117749989033.\n",
            "Epoch 1/30 with iteration 8700/19703: CD loss is 0.0020497413352131844.\n",
            "Epoch 1/30 with iteration 8800/19703: CD loss is 0.001791518647223711.\n",
            "Epoch 1/30 with iteration 8900/19703: CD loss is 0.0023277713917195797.\n",
            "Epoch 1/30 with iteration 9000/19703: CD loss is 0.0017217115964740515.\n",
            "Epoch 1/30 with iteration 9100/19703: CD loss is 0.0019557145424187183.\n",
            "Epoch 1/30 with iteration 9200/19703: CD loss is 0.0019438308663666248.\n",
            "Epoch 1/30 with iteration 9300/19703: CD loss is 0.0013476464664563537.\n",
            "Epoch 1/30 with iteration 9400/19703: CD loss is 0.0012911588419228792.\n",
            "Epoch 1/30 with iteration 9500/19703: CD loss is 0.0017953156493604183.\n",
            "Epoch 1/30 with iteration 9600/19703: CD loss is 0.0022198385559022427.\n",
            "Epoch 1/30 with iteration 9700/19703: CD loss is 0.0017708719242364168.\n",
            "Epoch 1/30 with iteration 9800/19703: CD loss is 0.002070402028039098.\n",
            "Epoch 1/30 with iteration 9900/19703: CD loss is 0.001537770964205265.\n",
            "Epoch 1/30 with iteration 10000/19703: CD loss is 0.001801661099307239.\n",
            "Epoch 1/30 with iteration 10100/19703: CD loss is 0.0014755417359992862.\n",
            "Epoch 1/30 with iteration 10200/19703: CD loss is 0.0014670295640826225.\n",
            "Epoch 1/30 with iteration 10300/19703: CD loss is 0.0016611003084108233.\n",
            "Epoch 1/30 with iteration 10400/19703: CD loss is 0.001875845598988235.\n",
            "Epoch 1/30 with iteration 10500/19703: CD loss is 0.001611625892110169.\n",
            "Epoch 1/30 with iteration 10600/19703: CD loss is 0.0015277089551091194.\n",
            "Epoch 1/30 with iteration 10700/19703: CD loss is 0.0016439897008240223.\n",
            "Epoch 1/30 with iteration 10800/19703: CD loss is 0.0016961392248049378.\n",
            "Epoch 1/30 with iteration 10900/19703: CD loss is 0.001655109110288322.\n",
            "Epoch 1/30 with iteration 11000/19703: CD loss is 0.0020162626169621944.\n",
            "Epoch 1/30 with iteration 11100/19703: CD loss is 0.001285184407606721.\n",
            "Epoch 1/30 with iteration 11200/19703: CD loss is 0.0021127767395228148.\n",
            "Epoch 1/30 with iteration 11300/19703: CD loss is 0.0016347793862223625.\n",
            "Epoch 1/30 with iteration 11400/19703: CD loss is 0.0014238596195355058.\n",
            "Epoch 1/30 with iteration 11500/19703: CD loss is 0.001797388424165547.\n",
            "Epoch 1/30 with iteration 11600/19703: CD loss is 0.0019658885430544615.\n",
            "Epoch 1/30 with iteration 11700/19703: CD loss is 0.0015731477178633213.\n",
            "Epoch 1/30 with iteration 11800/19703: CD loss is 0.0014655515551567078.\n",
            "Epoch 1/30 with iteration 11900/19703: CD loss is 0.0013795511331409216.\n",
            "Epoch 1/30 with iteration 12000/19703: CD loss is 0.001638313289731741.\n",
            "Epoch 1/30 with iteration 12100/19703: CD loss is 0.0013411734253168106.\n",
            "Epoch 1/30 with iteration 12200/19703: CD loss is 0.0012372725177556276.\n",
            "Epoch 1/30 with iteration 12300/19703: CD loss is 0.0013546613045036793.\n",
            "Epoch 1/30 with iteration 12400/19703: CD loss is 0.0014494465431198478.\n",
            "Epoch 1/30 with iteration 12500/19703: CD loss is 0.001597563037648797.\n",
            "Epoch 1/30 with iteration 12600/19703: CD loss is 0.0023952010087668896.\n",
            "Epoch 1/30 with iteration 12700/19703: CD loss is 0.0016925761010497808.\n",
            "Epoch 1/30 with iteration 12800/19703: CD loss is 0.001874397392384708.\n",
            "Epoch 1/30 with iteration 12900/19703: CD loss is 0.0015751011669635773.\n",
            "Epoch 1/30 with iteration 13000/19703: CD loss is 0.0016669100150465965.\n",
            "Epoch 1/30 with iteration 13100/19703: CD loss is 0.0017591072246432304.\n",
            "Epoch 1/30 with iteration 13200/19703: CD loss is 0.0012358014937490225.\n",
            "Epoch 1/30 with iteration 13300/19703: CD loss is 0.0019405558705329895.\n",
            "Epoch 1/30 with iteration 13400/19703: CD loss is 0.0014602430164813995.\n",
            "Epoch 1/30 with iteration 13500/19703: CD loss is 0.0014257340226322412.\n",
            "Epoch 1/30 with iteration 13600/19703: CD loss is 0.001357062952592969.\n",
            "Epoch 1/30 with iteration 13700/19703: CD loss is 0.001804113737307489.\n",
            "Epoch 1/30 with iteration 13800/19703: CD loss is 0.0018867854960262775.\n",
            "Epoch 1/30 with iteration 13900/19703: CD loss is 0.0015393990324810147.\n",
            "Epoch 1/30 with iteration 14000/19703: CD loss is 0.0015798413660377264.\n",
            "Epoch 1/30 with iteration 14100/19703: CD loss is 0.001564522972330451.\n",
            "Epoch 1/30 with iteration 14200/19703: CD loss is 0.0019409009255468845.\n",
            "Epoch 1/30 with iteration 14300/19703: CD loss is 0.0017965285805985332.\n",
            "Epoch 1/30 with iteration 14400/19703: CD loss is 0.001473214477300644.\n",
            "Epoch 1/30 with iteration 14500/19703: CD loss is 0.0012626335956156254.\n",
            "Epoch 1/30 with iteration 14600/19703: CD loss is 0.001820645178668201.\n",
            "Epoch 1/30 with iteration 14700/19703: CD loss is 0.0018546470673754811.\n",
            "Epoch 1/30 with iteration 14800/19703: CD loss is 0.0014164545573294163.\n",
            "Epoch 1/30 with iteration 14900/19703: CD loss is 0.0018676812760531902.\n",
            "Epoch 1/30 with iteration 15000/19703: CD loss is 0.0014986994210630655.\n",
            "Epoch 1/30 with iteration 15100/19703: CD loss is 0.0017573217628523707.\n",
            "Epoch 1/30 with iteration 15200/19703: CD loss is 0.0014192049857228994.\n",
            "Epoch 1/30 with iteration 15300/19703: CD loss is 0.0021021089050918818.\n",
            "Epoch 1/30 with iteration 15400/19703: CD loss is 0.001409929245710373.\n",
            "Epoch 1/30 with iteration 15500/19703: CD loss is 0.0015789708122611046.\n",
            "Epoch 1/30 with iteration 15600/19703: CD loss is 0.0016289539635181427.\n",
            "Epoch 1/30 with iteration 15700/19703: CD loss is 0.001346307573840022.\n",
            "Epoch 1/30 with iteration 15800/19703: CD loss is 0.0017863591201603413.\n",
            "Epoch 1/30 with iteration 15900/19703: CD loss is 0.0018523370381444693.\n",
            "Epoch 1/30 with iteration 16000/19703: CD loss is 0.002072975505143404.\n",
            "Epoch 1/30 with iteration 16100/19703: CD loss is 0.0018383834976702929.\n",
            "Epoch 1/30 with iteration 16200/19703: CD loss is 0.0013819064479321241.\n",
            "Epoch 1/30 with iteration 16300/19703: CD loss is 0.0017329510301351547.\n",
            "Epoch 1/30 with iteration 16400/19703: CD loss is 0.0018235945608466864.\n",
            "Epoch 1/30 with iteration 16500/19703: CD loss is 0.001425681752152741.\n",
            "Epoch 1/30 with iteration 16600/19703: CD loss is 0.0021905293688178062.\n",
            "Epoch 1/30 with iteration 16700/19703: CD loss is 0.0013533763121813536.\n",
            "Epoch 1/30 with iteration 16800/19703: CD loss is 0.0012106623034924269.\n",
            "Epoch 1/30 with iteration 16900/19703: CD loss is 0.0018540374003350735.\n",
            "Epoch 1/30 with iteration 17000/19703: CD loss is 0.0013956509064882994.\n",
            "Epoch 1/30 with iteration 17100/19703: CD loss is 0.002017342485487461.\n",
            "Epoch 1/30 with iteration 17200/19703: CD loss is 0.0018131264951080084.\n",
            "Epoch 1/30 with iteration 17300/19703: CD loss is 0.0016732786316424608.\n",
            "Epoch 1/30 with iteration 17400/19703: CD loss is 0.0018436022801324725.\n",
            "Epoch 1/30 with iteration 17500/19703: CD loss is 0.0012793224304914474.\n",
            "Epoch 1/30 with iteration 17600/19703: CD loss is 0.0012837928952649236.\n",
            "Epoch 1/30 with iteration 17700/19703: CD loss is 0.001463341643102467.\n",
            "Epoch 1/30 with iteration 17800/19703: CD loss is 0.0016425917856395245.\n",
            "Epoch 1/30 with iteration 17900/19703: CD loss is 0.0014664727495983243.\n",
            "Epoch 1/30 with iteration 18000/19703: CD loss is 0.0018666267860680819.\n",
            "Epoch 1/30 with iteration 18100/19703: CD loss is 0.001495098927989602.\n",
            "Epoch 1/30 with iteration 18200/19703: CD loss is 0.001780943712219596.\n",
            "Epoch 1/30 with iteration 18300/19703: CD loss is 0.0013176137581467628.\n",
            "Epoch 1/30 with iteration 18400/19703: CD loss is 0.0016818122239783406.\n",
            "Epoch 1/30 with iteration 18500/19703: CD loss is 0.0016028087120503187.\n",
            "Epoch 1/30 with iteration 18600/19703: CD loss is 0.0015785831492394209.\n",
            "Epoch 1/30 with iteration 18700/19703: CD loss is 0.0020025037229061127.\n",
            "Epoch 1/30 with iteration 18800/19703: CD loss is 0.0018341492395848036.\n",
            "Epoch 1/30 with iteration 18900/19703: CD loss is 0.0015267848502844572.\n",
            "Epoch 1/30 with iteration 19000/19703: CD loss is 0.0016606284771114588.\n",
            "Epoch 1/30 with iteration 19100/19703: CD loss is 0.0018003962468355894.\n",
            "Epoch 1/30 with iteration 19200/19703: CD loss is 0.001528339460492134.\n",
            "Epoch 1/30 with iteration 19300/19703: CD loss is 0.001687946729362011.\n",
            "Epoch 1/30 with iteration 19400/19703: CD loss is 0.0013290405040606856.\n",
            "Epoch 1/30 with iteration 19500/19703: CD loss is 0.0017740270122885704.\n",
            "Epoch 1/30 with iteration 19600/19703: CD loss is 0.0017616557888686657.\n",
            "Epoch 1/30 with iteration 19700/19703: CD loss is 0.0012334103230386972.\n",
            "[001/19703] train loss: 37.598675788147375\n",
            "Epoch 2/30 with iteration 100/19703: CD loss is 0.0017415485344827175.\n",
            "Epoch 2/30 with iteration 200/19703: CD loss is 0.001773411757312715.\n",
            "Epoch 2/30 with iteration 300/19703: CD loss is 0.0014594746753573418.\n",
            "Epoch 2/30 with iteration 400/19703: CD loss is 0.001874517765827477.\n",
            "Epoch 2/30 with iteration 500/19703: CD loss is 0.001193440519273281.\n",
            "Epoch 2/30 with iteration 600/19703: CD loss is 0.0016926086973398924.\n",
            "Epoch 2/30 with iteration 700/19703: CD loss is 0.0012474809773266315.\n",
            "Epoch 2/30 with iteration 800/19703: CD loss is 0.001557580311782658.\n",
            "Epoch 2/30 with iteration 900/19703: CD loss is 0.0014030991587787867.\n",
            "Epoch 2/30 with iteration 1000/19703: CD loss is 0.001293143373914063.\n",
            "Epoch 2/30 with iteration 1100/19703: CD loss is 0.0012236409820616245.\n",
            "Epoch 2/30 with iteration 1200/19703: CD loss is 0.0017331433482468128.\n",
            "Epoch 2/30 with iteration 1300/19703: CD loss is 0.0019627625588327646.\n",
            "Epoch 2/30 with iteration 1400/19703: CD loss is 0.0013591803144663572.\n",
            "Epoch 2/30 with iteration 1500/19703: CD loss is 0.0016112839803099632.\n",
            "Epoch 2/30 with iteration 1600/19703: CD loss is 0.00214151619002223.\n",
            "Epoch 2/30 with iteration 1700/19703: CD loss is 0.0015784387942403555.\n",
            "Epoch 2/30 with iteration 1800/19703: CD loss is 0.0014574056258425117.\n",
            "Epoch 2/30 with iteration 1900/19703: CD loss is 0.0016394550912082195.\n",
            "Epoch 2/30 with iteration 2000/19703: CD loss is 0.001276111463084817.\n",
            "Epoch 2/30 with iteration 2100/19703: CD loss is 0.002188260667026043.\n",
            "Epoch 2/30 with iteration 2200/19703: CD loss is 0.0017021093517541885.\n",
            "Epoch 2/30 with iteration 2300/19703: CD loss is 0.0016515434253960848.\n",
            "Epoch 2/30 with iteration 2400/19703: CD loss is 0.0015536900609731674.\n",
            "Epoch 2/30 with iteration 2500/19703: CD loss is 0.0018948230426758528.\n",
            "Epoch 2/30 with iteration 2600/19703: CD loss is 0.0015323562547564507.\n",
            "Epoch 2/30 with iteration 2700/19703: CD loss is 0.0021735262125730515.\n",
            "Epoch 2/30 with iteration 2800/19703: CD loss is 0.001753328018821776.\n",
            "Epoch 2/30 with iteration 2900/19703: CD loss is 0.0015600750921294093.\n",
            "Epoch 2/30 with iteration 3000/19703: CD loss is 0.001439533312804997.\n",
            "Epoch 2/30 with iteration 3100/19703: CD loss is 0.0028782058507204056.\n",
            "Epoch 2/30 with iteration 3200/19703: CD loss is 0.0014057649532333016.\n",
            "Epoch 2/30 with iteration 3300/19703: CD loss is 0.0016628764569759369.\n",
            "Epoch 2/30 with iteration 3400/19703: CD loss is 0.0013189255259931087.\n",
            "Epoch 2/30 with iteration 3500/19703: CD loss is 0.001310215680859983.\n",
            "Epoch 2/30 with iteration 3600/19703: CD loss is 0.0019903217907994986.\n",
            "Epoch 2/30 with iteration 3700/19703: CD loss is 0.0021831896156072617.\n",
            "Epoch 2/30 with iteration 3800/19703: CD loss is 0.0011338338954374194.\n",
            "Epoch 2/30 with iteration 3900/19703: CD loss is 0.0015931101515889168.\n",
            "Epoch 2/30 with iteration 4000/19703: CD loss is 0.0015648083062842488.\n",
            "Epoch 2/30 with iteration 4100/19703: CD loss is 0.001539584482088685.\n",
            "Epoch 2/30 with iteration 4200/19703: CD loss is 0.0014285825891420245.\n",
            "Epoch 2/30 with iteration 4300/19703: CD loss is 0.0021089499350637197.\n",
            "Epoch 2/30 with iteration 4400/19703: CD loss is 0.0018914525862783194.\n",
            "Epoch 2/30 with iteration 4500/19703: CD loss is 0.0014345094095915556.\n",
            "Epoch 2/30 with iteration 4600/19703: CD loss is 0.0014450231101363897.\n",
            "Epoch 2/30 with iteration 4700/19703: CD loss is 0.0017423797398805618.\n",
            "Epoch 2/30 with iteration 4800/19703: CD loss is 0.0014003601390868425.\n",
            "Epoch 2/30 with iteration 4900/19703: CD loss is 0.0016692595090717077.\n",
            "Epoch 2/30 with iteration 5000/19703: CD loss is 0.0014808244304731488.\n",
            "Epoch 2/30 with iteration 5100/19703: CD loss is 0.0014307473320513964.\n",
            "Epoch 2/30 with iteration 5200/19703: CD loss is 0.0013726996257901192.\n",
            "Epoch 2/30 with iteration 5300/19703: CD loss is 0.0011926492443308234.\n",
            "Epoch 2/30 with iteration 5400/19703: CD loss is 0.0016467603854835033.\n",
            "Epoch 2/30 with iteration 5500/19703: CD loss is 0.001360719557851553.\n",
            "Epoch 2/30 with iteration 5600/19703: CD loss is 0.0010708043118938804.\n",
            "Epoch 2/30 with iteration 5700/19703: CD loss is 0.0017180638387799263.\n",
            "Epoch 2/30 with iteration 5800/19703: CD loss is 0.0016834664857015014.\n",
            "Epoch 2/30 with iteration 5900/19703: CD loss is 0.0016566719859838486.\n",
            "Epoch 2/30 with iteration 6000/19703: CD loss is 0.001483127474784851.\n",
            "Epoch 2/30 with iteration 6100/19703: CD loss is 0.0016811324749141932.\n",
            "Epoch 2/30 with iteration 6200/19703: CD loss is 0.0013702849391847849.\n",
            "Epoch 2/30 with iteration 6300/19703: CD loss is 0.0017711741384118795.\n",
            "Epoch 2/30 with iteration 6400/19703: CD loss is 0.0017545350128784776.\n",
            "Epoch 2/30 with iteration 6500/19703: CD loss is 0.0015561850741505623.\n",
            "Epoch 2/30 with iteration 6600/19703: CD loss is 0.00175389158539474.\n",
            "Epoch 2/30 with iteration 6700/19703: CD loss is 0.0014831000007689.\n",
            "Epoch 2/30 with iteration 6800/19703: CD loss is 0.0018370992038398981.\n",
            "Epoch 2/30 with iteration 6900/19703: CD loss is 0.0012907051714137197.\n",
            "Epoch 2/30 with iteration 7000/19703: CD loss is 0.0014355186140164733.\n",
            "Epoch 2/30 with iteration 7100/19703: CD loss is 0.0016623390838503838.\n",
            "Epoch 2/30 with iteration 7200/19703: CD loss is 0.0014349204720929265.\n",
            "Epoch 2/30 with iteration 7300/19703: CD loss is 0.0023307190276682377.\n",
            "Epoch 2/30 with iteration 7400/19703: CD loss is 0.0015616747550666332.\n",
            "Epoch 2/30 with iteration 7500/19703: CD loss is 0.0016438692109659314.\n",
            "Epoch 2/30 with iteration 7600/19703: CD loss is 0.0013980501098558307.\n",
            "Epoch 2/30 with iteration 7700/19703: CD loss is 0.0014278613962233067.\n",
            "Epoch 2/30 with iteration 7800/19703: CD loss is 0.001629808684810996.\n",
            "Epoch 2/30 with iteration 7900/19703: CD loss is 0.0012544714845716953.\n",
            "Epoch 2/30 with iteration 8000/19703: CD loss is 0.001621742034330964.\n",
            "Epoch 2/30 with iteration 8100/19703: CD loss is 0.001971821766346693.\n",
            "Epoch 2/30 with iteration 8200/19703: CD loss is 0.0013824551133438945.\n",
            "Epoch 2/30 with iteration 8300/19703: CD loss is 0.0016164466505870223.\n",
            "Epoch 2/30 with iteration 8400/19703: CD loss is 0.0013879064936190844.\n",
            "Epoch 2/30 with iteration 8500/19703: CD loss is 0.001593874767422676.\n",
            "Epoch 2/30 with iteration 8600/19703: CD loss is 0.0019654100760817528.\n",
            "Epoch 2/30 with iteration 8700/19703: CD loss is 0.0018067262135446072.\n",
            "Epoch 2/30 with iteration 8800/19703: CD loss is 0.001229364424943924.\n",
            "Epoch 2/30 with iteration 8900/19703: CD loss is 0.0018409441690891981.\n",
            "Epoch 2/30 with iteration 9000/19703: CD loss is 0.001965159084647894.\n",
            "Epoch 2/30 with iteration 9100/19703: CD loss is 0.001500518061220646.\n",
            "Epoch 2/30 with iteration 9200/19703: CD loss is 0.0014471870381385088.\n",
            "Epoch 2/30 with iteration 9300/19703: CD loss is 0.0016817430732771754.\n",
            "Epoch 2/30 with iteration 9400/19703: CD loss is 0.0014000937808305025.\n",
            "Epoch 2/30 with iteration 9500/19703: CD loss is 0.0012364413123577833.\n",
            "Epoch 2/30 with iteration 9600/19703: CD loss is 0.0015921380836516619.\n",
            "Epoch 2/30 with iteration 9700/19703: CD loss is 0.0018201407510787249.\n",
            "Epoch 2/30 with iteration 9800/19703: CD loss is 0.001297147711738944.\n",
            "Epoch 2/30 with iteration 9900/19703: CD loss is 0.0011973330983892083.\n",
            "Epoch 2/30 with iteration 10000/19703: CD loss is 0.0019380950834602118.\n",
            "Epoch 2/30 with iteration 10100/19703: CD loss is 0.002135955262929201.\n",
            "Epoch 2/30 with iteration 10200/19703: CD loss is 0.0016830612439662218.\n",
            "Epoch 2/30 with iteration 10300/19703: CD loss is 0.001687428681179881.\n",
            "Epoch 2/30 with iteration 10400/19703: CD loss is 0.0013618539087474346.\n",
            "Epoch 2/30 with iteration 10500/19703: CD loss is 0.0016048733377829194.\n",
            "Epoch 2/30 with iteration 10600/19703: CD loss is 0.0011690082028508186.\n",
            "Epoch 2/30 with iteration 10700/19703: CD loss is 0.0015575226861983538.\n",
            "Epoch 2/30 with iteration 10800/19703: CD loss is 0.0016495096497237682.\n",
            "Epoch 2/30 with iteration 10900/19703: CD loss is 0.0016335041727870703.\n",
            "Epoch 2/30 with iteration 11000/19703: CD loss is 0.0019008349627256393.\n",
            "Epoch 2/30 with iteration 11100/19703: CD loss is 0.001547524007037282.\n",
            "Epoch 2/30 with iteration 11200/19703: CD loss is 0.0016235464718192816.\n",
            "Epoch 2/30 with iteration 11300/19703: CD loss is 0.0015617706812918186.\n",
            "Epoch 2/30 with iteration 11400/19703: CD loss is 0.00145195540972054.\n",
            "Epoch 2/30 with iteration 11500/19703: CD loss is 0.001306949881836772.\n",
            "Epoch 2/30 with iteration 11600/19703: CD loss is 0.0017481211107224226.\n",
            "Epoch 2/30 with iteration 11700/19703: CD loss is 0.0014641521265730262.\n",
            "Epoch 2/30 with iteration 11800/19703: CD loss is 0.0015696363989263773.\n",
            "Epoch 2/30 with iteration 11900/19703: CD loss is 0.0015250665601342916.\n",
            "Epoch 2/30 with iteration 12000/19703: CD loss is 0.0014854911714792252.\n",
            "Epoch 2/30 with iteration 12100/19703: CD loss is 0.0013383054174482822.\n",
            "Epoch 2/30 with iteration 12200/19703: CD loss is 0.0014097541570663452.\n",
            "Epoch 2/30 with iteration 12300/19703: CD loss is 0.00144190713763237.\n",
            "Epoch 2/30 with iteration 12400/19703: CD loss is 0.0018235247116535902.\n",
            "Epoch 2/30 with iteration 12500/19703: CD loss is 0.0016995309852063656.\n",
            "Epoch 2/30 with iteration 12600/19703: CD loss is 0.0015641195932403207.\n",
            "Epoch 2/30 with iteration 12700/19703: CD loss is 0.001545746112242341.\n",
            "Epoch 2/30 with iteration 12800/19703: CD loss is 0.0009553881245665252.\n",
            "Epoch 2/30 with iteration 12900/19703: CD loss is 0.0014341578353196383.\n",
            "Epoch 2/30 with iteration 13000/19703: CD loss is 0.0016557120252400637.\n",
            "Epoch 2/30 with iteration 13100/19703: CD loss is 0.001663874601945281.\n",
            "Epoch 2/30 with iteration 13200/19703: CD loss is 0.0015125670470297337.\n",
            "Epoch 2/30 with iteration 13300/19703: CD loss is 0.0013553191674873233.\n",
            "Epoch 2/30 with iteration 13400/19703: CD loss is 0.001639392226934433.\n",
            "Epoch 2/30 with iteration 13500/19703: CD loss is 0.00150391086935997.\n",
            "Epoch 2/30 with iteration 13600/19703: CD loss is 0.0013460373738780618.\n",
            "Epoch 2/30 with iteration 13700/19703: CD loss is 0.0014406275004148483.\n",
            "Epoch 2/30 with iteration 13800/19703: CD loss is 0.0014541780110448599.\n",
            "Epoch 2/30 with iteration 13900/19703: CD loss is 0.0011531272903084755.\n",
            "Epoch 2/30 with iteration 14000/19703: CD loss is 0.001278277370147407.\n",
            "Epoch 2/30 with iteration 14100/19703: CD loss is 0.001566231483593583.\n",
            "Epoch 2/30 with iteration 14200/19703: CD loss is 0.0012517905561253428.\n",
            "Epoch 2/30 with iteration 14300/19703: CD loss is 0.0013227986637502909.\n",
            "Epoch 2/30 with iteration 14400/19703: CD loss is 0.0015618111938238144.\n",
            "Epoch 2/30 with iteration 14500/19703: CD loss is 0.0013976888731122017.\n",
            "Epoch 2/30 with iteration 14600/19703: CD loss is 0.0013335042167454958.\n",
            "Epoch 2/30 with iteration 14700/19703: CD loss is 0.0015606805682182312.\n",
            "Epoch 2/30 with iteration 14800/19703: CD loss is 0.0018674791790544987.\n",
            "Epoch 2/30 with iteration 14900/19703: CD loss is 0.0015524548944085836.\n",
            "Epoch 2/30 with iteration 15000/19703: CD loss is 0.001013533677905798.\n",
            "Epoch 2/30 with iteration 15100/19703: CD loss is 0.001246448839083314.\n",
            "Epoch 2/30 with iteration 15200/19703: CD loss is 0.0014398472849279642.\n",
            "Epoch 2/30 with iteration 15300/19703: CD loss is 0.0018315992783755064.\n",
            "Epoch 2/30 with iteration 15400/19703: CD loss is 0.0012763590784743428.\n",
            "Epoch 2/30 with iteration 15500/19703: CD loss is 0.0014252319233492017.\n",
            "Epoch 2/30 with iteration 15600/19703: CD loss is 0.0012445454485714436.\n",
            "Epoch 2/30 with iteration 15700/19703: CD loss is 0.0016035772860050201.\n",
            "Epoch 2/30 with iteration 15800/19703: CD loss is 0.001310582971200347.\n",
            "Epoch 2/30 with iteration 15900/19703: CD loss is 0.0015825172886252403.\n",
            "Epoch 2/30 with iteration 16000/19703: CD loss is 0.0019897674210369587.\n",
            "Epoch 2/30 with iteration 16100/19703: CD loss is 0.0017531306948512793.\n",
            "Epoch 2/30 with iteration 16200/19703: CD loss is 0.001408628188073635.\n",
            "Epoch 2/30 with iteration 16300/19703: CD loss is 0.0015713416505604982.\n",
            "Epoch 2/30 with iteration 16400/19703: CD loss is 0.00198972481302917.\n",
            "Epoch 2/30 with iteration 16500/19703: CD loss is 0.001421924214810133.\n",
            "Epoch 2/30 with iteration 16600/19703: CD loss is 0.0014769126428291202.\n",
            "Epoch 2/30 with iteration 16700/19703: CD loss is 0.0013011040864512324.\n",
            "Epoch 2/30 with iteration 16800/19703: CD loss is 0.0018044353928416967.\n",
            "Epoch 2/30 with iteration 16900/19703: CD loss is 0.0018413581419736147.\n",
            "Epoch 2/30 with iteration 17000/19703: CD loss is 0.0015283750835806131.\n",
            "Epoch 2/30 with iteration 17100/19703: CD loss is 0.0016592914471402764.\n",
            "Epoch 2/30 with iteration 17200/19703: CD loss is 0.0016858814051374793.\n",
            "Epoch 2/30 with iteration 17300/19703: CD loss is 0.001449543982744217.\n",
            "Epoch 2/30 with iteration 17400/19703: CD loss is 0.001804855652153492.\n",
            "Epoch 2/30 with iteration 17500/19703: CD loss is 0.001808296306990087.\n",
            "Epoch 2/30 with iteration 17600/19703: CD loss is 0.0018140798201784492.\n",
            "Epoch 2/30 with iteration 17700/19703: CD loss is 0.0015733558684587479.\n",
            "Epoch 2/30 with iteration 17800/19703: CD loss is 0.0013535902835428715.\n",
            "Epoch 2/30 with iteration 17900/19703: CD loss is 0.0015078767901286483.\n",
            "Epoch 2/30 with iteration 18000/19703: CD loss is 0.0016847788356244564.\n",
            "Epoch 2/30 with iteration 18100/19703: CD loss is 0.0016499420162290335.\n",
            "Epoch 2/30 with iteration 18200/19703: CD loss is 0.0016014794819056988.\n",
            "Epoch 2/30 with iteration 18300/19703: CD loss is 0.0013756505213677883.\n",
            "Epoch 2/30 with iteration 18400/19703: CD loss is 0.0014772629365324974.\n",
            "Epoch 2/30 with iteration 18500/19703: CD loss is 0.0015304074622690678.\n",
            "Epoch 2/30 with iteration 18600/19703: CD loss is 0.0015243877423927188.\n",
            "Epoch 2/30 with iteration 18700/19703: CD loss is 0.001563939033076167.\n",
            "Epoch 2/30 with iteration 18800/19703: CD loss is 0.0014080745168030262.\n",
            "Epoch 2/30 with iteration 18900/19703: CD loss is 0.0012700529769062996.\n",
            "Epoch 2/30 with iteration 19000/19703: CD loss is 0.0016593264881521463.\n",
            "Epoch 2/30 with iteration 19100/19703: CD loss is 0.0015012405347079039.\n",
            "Epoch 2/30 with iteration 19200/19703: CD loss is 0.0016454244032502174.\n",
            "Epoch 2/30 with iteration 19300/19703: CD loss is 0.00154005060903728.\n",
            "Epoch 2/30 with iteration 19400/19703: CD loss is 0.0014534713700413704.\n",
            "Epoch 2/30 with iteration 19500/19703: CD loss is 0.0013581952080130577.\n",
            "Epoch 2/30 with iteration 19600/19703: CD loss is 0.0015844865702092648.\n",
            "Epoch 2/30 with iteration 19700/19703: CD loss is 0.0014477784279733896.\n",
            "[002/19703] train loss: 31.038788915320765\n",
            "Epoch 3/30 with iteration 100/19703: CD loss is 0.0013622133992612362.\n",
            "Epoch 3/30 with iteration 200/19703: CD loss is 0.0014684895286336541.\n",
            "Epoch 3/30 with iteration 300/19703: CD loss is 0.0014713050331920385.\n",
            "Epoch 3/30 with iteration 400/19703: CD loss is 0.0018527429783716798.\n",
            "Epoch 3/30 with iteration 500/19703: CD loss is 0.001469483831897378.\n",
            "Epoch 3/30 with iteration 600/19703: CD loss is 0.0013678338145837188.\n",
            "Epoch 3/30 with iteration 700/19703: CD loss is 0.0018873936496675014.\n",
            "Epoch 3/30 with iteration 800/19703: CD loss is 0.0013106748228892684.\n",
            "Epoch 3/30 with iteration 900/19703: CD loss is 0.0015944901388138533.\n",
            "Epoch 3/30 with iteration 1000/19703: CD loss is 0.0016195469070225954.\n",
            "Epoch 3/30 with iteration 1100/19703: CD loss is 0.0012143021449446678.\n",
            "Epoch 3/30 with iteration 1200/19703: CD loss is 0.0011527787428349257.\n",
            "Epoch 3/30 with iteration 1300/19703: CD loss is 0.0013968533603474498.\n",
            "Epoch 3/30 with iteration 1400/19703: CD loss is 0.0015932887326925993.\n",
            "Epoch 3/30 with iteration 1500/19703: CD loss is 0.0013770577497780323.\n",
            "Epoch 3/30 with iteration 1600/19703: CD loss is 0.0019465168006718159.\n",
            "Epoch 3/30 with iteration 1700/19703: CD loss is 0.001653270679526031.\n",
            "Epoch 3/30 with iteration 1800/19703: CD loss is 0.0014390479773283005.\n",
            "Epoch 3/30 with iteration 1900/19703: CD loss is 0.0012821843847632408.\n",
            "Epoch 3/30 with iteration 2000/19703: CD loss is 0.0014277583686634898.\n",
            "Epoch 3/30 with iteration 2100/19703: CD loss is 0.0015287266578525305.\n",
            "Epoch 3/30 with iteration 2200/19703: CD loss is 0.0013738818233832717.\n",
            "Epoch 3/30 with iteration 2300/19703: CD loss is 0.0013408667873591185.\n",
            "Epoch 3/30 with iteration 2400/19703: CD loss is 0.001542567857541144.\n",
            "Epoch 3/30 with iteration 2500/19703: CD loss is 0.0013471764978021383.\n",
            "Epoch 3/30 with iteration 2600/19703: CD loss is 0.0014628723729401827.\n",
            "Epoch 3/30 with iteration 2700/19703: CD loss is 0.0014394744066521525.\n",
            "Epoch 3/30 with iteration 2800/19703: CD loss is 0.0013344739563763142.\n",
            "Epoch 3/30 with iteration 2900/19703: CD loss is 0.0014126199530437589.\n",
            "Epoch 3/30 with iteration 3000/19703: CD loss is 0.0014441797975450754.\n",
            "Epoch 3/30 with iteration 3100/19703: CD loss is 0.0014364169910550117.\n",
            "Epoch 3/30 with iteration 3200/19703: CD loss is 0.0015072873793542385.\n",
            "Epoch 3/30 with iteration 3300/19703: CD loss is 0.0016588339349254966.\n",
            "Epoch 3/30 with iteration 3400/19703: CD loss is 0.0012518042931333184.\n",
            "Epoch 3/30 with iteration 3500/19703: CD loss is 0.0017117013921961188.\n",
            "Epoch 3/30 with iteration 3600/19703: CD loss is 0.001657732529565692.\n",
            "Epoch 3/30 with iteration 3700/19703: CD loss is 0.0015537638682872057.\n",
            "Epoch 3/30 with iteration 3800/19703: CD loss is 0.0015612387796863914.\n",
            "Epoch 3/30 with iteration 3900/19703: CD loss is 0.0018022432923316956.\n",
            "Epoch 3/30 with iteration 4000/19703: CD loss is 0.0020547343883663416.\n",
            "Epoch 3/30 with iteration 4100/19703: CD loss is 0.0012693938333541155.\n",
            "Epoch 3/30 with iteration 4200/19703: CD loss is 0.0014050740282982588.\n",
            "Epoch 3/30 with iteration 4300/19703: CD loss is 0.0015666433610022068.\n",
            "Epoch 3/30 with iteration 4400/19703: CD loss is 0.0016518165357410908.\n",
            "Epoch 3/30 with iteration 4500/19703: CD loss is 0.0012889521894976497.\n",
            "Epoch 3/30 with iteration 4600/19703: CD loss is 0.0015585788059979677.\n",
            "Epoch 3/30 with iteration 4700/19703: CD loss is 0.002078913152217865.\n",
            "Epoch 3/30 with iteration 4800/19703: CD loss is 0.0014307410456240177.\n",
            "Epoch 3/30 with iteration 4900/19703: CD loss is 0.0015737339854240417.\n",
            "Epoch 3/30 with iteration 5000/19703: CD loss is 0.001541726989671588.\n",
            "Epoch 3/30 with iteration 5100/19703: CD loss is 0.001444676541723311.\n",
            "Epoch 3/30 with iteration 5200/19703: CD loss is 0.0027239976916462183.\n",
            "Epoch 3/30 with iteration 5300/19703: CD loss is 0.0016461822669953108.\n",
            "Epoch 3/30 with iteration 5400/19703: CD loss is 0.0014269533567130566.\n",
            "Epoch 3/30 with iteration 5500/19703: CD loss is 0.001686512609012425.\n",
            "Epoch 3/30 with iteration 5600/19703: CD loss is 0.001272628316655755.\n",
            "Epoch 3/30 with iteration 5700/19703: CD loss is 0.0015167170204222202.\n",
            "Epoch 3/30 with iteration 5800/19703: CD loss is 0.0014750801492482424.\n",
            "Epoch 3/30 with iteration 5900/19703: CD loss is 0.0010114798787981272.\n",
            "Epoch 3/30 with iteration 6000/19703: CD loss is 0.001395179657265544.\n",
            "Epoch 3/30 with iteration 6100/19703: CD loss is 0.0018113015685230494.\n",
            "Epoch 3/30 with iteration 6200/19703: CD loss is 0.001283405115827918.\n",
            "Epoch 3/30 with iteration 6300/19703: CD loss is 0.0013254163786768913.\n",
            "Epoch 3/30 with iteration 6400/19703: CD loss is 0.0012807247694581747.\n",
            "Epoch 3/30 with iteration 6500/19703: CD loss is 0.0013055129675194621.\n",
            "Epoch 3/30 with iteration 6600/19703: CD loss is 0.001642097719013691.\n",
            "Epoch 3/30 with iteration 6700/19703: CD loss is 0.0011860940139740705.\n",
            "Epoch 3/30 with iteration 6800/19703: CD loss is 0.002457386115565896.\n",
            "Epoch 3/30 with iteration 6900/19703: CD loss is 0.0015181897906586528.\n",
            "Epoch 3/30 with iteration 7000/19703: CD loss is 0.0012463742168620229.\n",
            "Epoch 3/30 with iteration 7100/19703: CD loss is 0.001815898809581995.\n",
            "Epoch 3/30 with iteration 7200/19703: CD loss is 0.0013108670245856047.\n",
            "Epoch 3/30 with iteration 7300/19703: CD loss is 0.0018237712793052197.\n",
            "Epoch 3/30 with iteration 7400/19703: CD loss is 0.0013734365347772837.\n",
            "Epoch 3/30 with iteration 7500/19703: CD loss is 0.0012071924284100533.\n",
            "Epoch 3/30 with iteration 7600/19703: CD loss is 0.0013480400666594505.\n",
            "Epoch 3/30 with iteration 7700/19703: CD loss is 0.001257517607882619.\n",
            "Epoch 3/30 with iteration 7800/19703: CD loss is 0.0011861055390909314.\n",
            "Epoch 3/30 with iteration 7900/19703: CD loss is 0.0013328631175681949.\n",
            "Epoch 3/30 with iteration 8000/19703: CD loss is 0.0012306100688874722.\n",
            "Epoch 3/30 with iteration 8100/19703: CD loss is 0.001720534753985703.\n",
            "Epoch 3/30 with iteration 8200/19703: CD loss is 0.0010264292359352112.\n",
            "Epoch 3/30 with iteration 8300/19703: CD loss is 0.001830507069826126.\n",
            "Epoch 3/30 with iteration 8400/19703: CD loss is 0.0015628639375790954.\n",
            "Epoch 3/30 with iteration 8500/19703: CD loss is 0.0012931128730997443.\n",
            "Epoch 3/30 with iteration 8600/19703: CD loss is 0.0015068636275827885.\n",
            "Epoch 3/30 with iteration 8700/19703: CD loss is 0.0013352693058550358.\n",
            "Epoch 3/30 with iteration 8800/19703: CD loss is 0.0016065563540905714.\n",
            "Epoch 3/30 with iteration 8900/19703: CD loss is 0.0017259392188861966.\n",
            "Epoch 3/30 with iteration 9000/19703: CD loss is 0.0012057673884555697.\n",
            "Epoch 3/30 with iteration 9100/19703: CD loss is 0.0017697566654533148.\n",
            "Epoch 3/30 with iteration 9200/19703: CD loss is 0.001751862233504653.\n",
            "Epoch 3/30 with iteration 9300/19703: CD loss is 0.0016481693601235747.\n",
            "Epoch 3/30 with iteration 9400/19703: CD loss is 0.001125211245380342.\n",
            "Epoch 3/30 with iteration 9500/19703: CD loss is 0.0016944825183600187.\n"
          ]
        }
      ]
    },
    {
      "cell_type": "markdown",
      "source": [
        "Variational"
      ],
      "metadata": {
        "id": "cVjsNa1N1px7"
      }
    },
    {
      "cell_type": "code",
      "source": [
        "from training import train_2d_to_3d\n",
        "\n",
        "generalization_config = {\n",
        "    'experiment_name': '/content/drive/MyDrive/3d-lmnet-pytorch/3d-lmnet-pytorch/2d_logs/normal',\n",
        "    'device': 'cuda:0',  # run this on a gpu for a reasonable training time\n",
        "    'is_overfit': False,\n",
        "    'bottleneck': 512,\n",
        "    \"cat\":13,\n",
        "    'batch_size': 32,\n",
        "    \"loss_criterion\":\"variational\",\n",
        "    \"final_layer\":\"variational\",\n",
        "    \"3d_encoder_path\":\"/content/3d-lmnet-pytorch/3d-lmnet-pytorch/additional_epoches/model_epoch_500.pth\",\n",
        "    'resume_ckpt': None,\n",
        "    'learning_rate_model':  0.00005,\n",
        "    'max_epochs': 30,  \n",
        "    'save_every_n': 5,\n",
        "    'validate_every_n': 3,\n",
        "    \"autoencoder_bottleneck\":512,\n",
        "    \"autoencoder_hidden_size\":256,\n",
        "    \"autoencoder_output_size\":2048*3,\n",
        "    \"alpha\":0.2,\n",
        "    \"penalty_angle\":20,\n",
        "    \"lambda\":5.5\n",
        "\n",
        "\n",
        "}\n",
        "\n",
        "train_2d_to_3d.main(generalization_config)"
      ],
      "metadata": {
        "id": "xv-oEiXO1r0F"
      },
      "execution_count": null,
      "outputs": []
    },
    {
      "cell_type": "markdown",
      "metadata": {
        "id": "BMfuS_dL3T-A"
      },
      "source": [
        "### Infer pointclouds using trained 2D Encoder and 3D Decoder models"
      ]
    },
    {
      "cell_type": "markdown",
      "metadata": {
        "id": "NFRpLXYm3ef-"
      },
      "source": [
        "Variational inferences:"
      ]
    },
    {
      "cell_type": "code",
      "execution_count": null,
      "metadata": {
        "id": "l1KCfUPQoRIT"
      },
      "outputs": [],
      "source": [
        "from inference import inference_2d_to_3d \n",
        "\n",
        "generalization_config = {\n",
        "    'experiment_name': '/content/drive/MyDrive/3d-lmnet-pytorch/3d-lmnet-pytorch/2d_logs/normal',\n",
        "    'device': 'cuda:0',  # run this on a gpu for a reasonable training time\n",
        "    'is_overfit': False,\n",
        "    'bottleneck': 512,\n",
        "    \"cat\":13,\n",
        "    'batch_size': 32,\n",
        "    \"loss_criterion\":\"normal\",\n",
        "    \"final_layer\":\"normal\",\n",
        "    \"3d_encoder_path\":\"/content/3d-lmnet-pytorch/3d-lmnet-pytorch/additional_epoches/model_epoch_500.pth\",\n",
        "    'resume_ckpt': None,\n",
        "    'learning_rate_model':  0.00005,\n",
        "    'max_epochs': 30,  \n",
        "    'print_every_n': 5,\n",
        "    'visualize_every_n': 5,\n",
        "    \"autoencoder_bottleneck\":512,\n",
        "    \"autoencoder_hidden_size\":256,\n",
        "    \"autoencoder_output_size\":2048*3\n",
        "\n",
        "}"
      ]
    },
    {
      "cell_type": "markdown",
      "metadata": {
        "id": "xa-wqJSr3hk-"
      },
      "source": [
        "Normal inferences:"
      ]
    },
    {
      "cell_type": "markdown",
      "source": [
        "Using L1 in the training"
      ],
      "metadata": {
        "id": "G4iWoRro2RBv"
      }
    },
    {
      "cell_type": "code",
      "execution_count": null,
      "metadata": {
        "id": "qRDWqdt1vZ5d"
      },
      "outputs": [],
      "source": [
        "from inference.infer_2d_to_3d import Inference2DToPointCloudNormal\n",
        "\n",
        "id=torch.randint(0,len(test_dataset))\n",
        "val_config={\"final_layer\" : \"normal\",\n",
        "        \"bottleneck\" : 512,\n",
        "        \"input_size\" : None,\n",
        "        \"hidden_size\" : None,\n",
        "        \"output_size\" : None,\n",
        "        \"bnorm\" : True,\n",
        "        \"bnorm_final\" : False,\n",
        "        \"regularizer\" : None,\n",
        "        \"weight_decay\" : 0.001,\n",
        "        \"dropout_prob\" : None}\n",
        "Inference2DToPointCloudNormal(test_dataset[id],\"content/3d-lmnet-pytorch/runs/2d_to_3d_normal\", \"content/3d-lmnet-pytorch/runs/3d_pointcloud_decoder\",val_config,device)"
      ]
    },
    {
      "cell_type": "markdown",
      "source": [
        "Using L2 in the training"
      ],
      "metadata": {
        "id": "9-8C7ogL2Typ"
      }
    },
    {
      "cell_type": "code",
      "source": [
        "from inference.infer_2d_to_3d import Inference2DToPointCloudNormal\n",
        "\n",
        "id=torch.randint(0,len(test_dataset))\n",
        "val_config={\"final_layer\" : \"normal\",\n",
        "        \"bottleneck\" : 512,\n",
        "        \"input_size\" : None,\n",
        "        \"hidden_size\" : None,\n",
        "        \"output_size\" : None,\n",
        "        \"bnorm\" : True,\n",
        "        \"bnorm_final\" : False,\n",
        "        \"regularizer\" : None,\n",
        "        \"weight_decay\" : 0.001,\n",
        "        \"dropout_prob\" : None}\n",
        "Inference2DToPointCloudNormal(test_dataset[id],\"content/3d-lmnet-pytorch/runs/2d_to_3d_normal\", \"content/3d-lmnet-pytorch/runs/3d_pointcloud_decoder\",val_config,device)"
      ],
      "metadata": {
        "id": "4I2gY2Ai2W7e"
      },
      "execution_count": null,
      "outputs": []
    },
    {
      "cell_type": "markdown",
      "source": [
        "## 3D Autoencoder Training"
      ],
      "metadata": {
        "id": "Zvw0jND02YKL"
      }
    },
    {
      "cell_type": "code",
      "execution_count": null,
      "metadata": {
        "colab": {
          "base_uri": "https://localhost:8080/",
          "height": 502
        },
        "id": "3dU0c36AFxVJ",
        "outputId": "9ca6193c-3a21-400e-ed94-f4d76aa0ef5f"
      },
      "outputs": [
        {
          "name": "stdout",
          "output_type": "stream",
          "text": [
            " initial input 512 initial hidden 16 initial output 3\n",
            "\u001b[31mBegin Training...\u001b[0m\n",
            "initial point cloud size torch.Size([16, 3, 2048])\n",
            "tensor size after encoder torch.Size([16, 512])\n",
            "tensor size after decoder torch.Size([16, 3])\n",
            "recons size torch.Size([16, 3, 1])\n",
            "point cloud size before loss function torch.Size([16, 2048, 3])\n",
            "recons size before loss function torch.Size([16, 1, 3])\n"
          ]
        },
        {
          "ename": "ValueError",
          "evalue": "ignored",
          "output_type": "error",
          "traceback": [
            "\u001b[0;31m---------------------------------------------------------------------------\u001b[0m",
            "\u001b[0;31mValueError\u001b[0m                                Traceback (most recent call last)",
            "\u001b[0;32m<ipython-input-50-55adbbeb75b6>\u001b[0m in \u001b[0;36m<module>\u001b[0;34m\u001b[0m\n\u001b[1;32m     35\u001b[0m }\n\u001b[1;32m     36\u001b[0m \u001b[0;34m\u001b[0m\u001b[0m\n\u001b[0;32m---> 37\u001b[0;31m \u001b[0mtrain_ae\u001b[0m\u001b[0;34m.\u001b[0m\u001b[0mmain\u001b[0m\u001b[0;34m(\u001b[0m\u001b[0mgeneralization_config\u001b[0m\u001b[0;34m)\u001b[0m\u001b[0;34m\u001b[0m\u001b[0;34m\u001b[0m\u001b[0m\n\u001b[0m",
            "\u001b[0;32m/content/3d-lmnet-pytorch/3d-lmnet-pytorch/training/train_ae.py\u001b[0m in \u001b[0;36mmain\u001b[0;34m(config)\u001b[0m\n\u001b[1;32m    104\u001b[0m             \u001b[0mprint\u001b[0m\u001b[0;34m(\u001b[0m\u001b[0;34m\"recons size before loss function \"\u001b[0m \u001b[0;34m+\u001b[0m \u001b[0mstr\u001b[0m\u001b[0;34m(\u001b[0m\u001b[0mrecons\u001b[0m\u001b[0;34m.\u001b[0m\u001b[0msize\u001b[0m\u001b[0;34m(\u001b[0m\u001b[0;34m)\u001b[0m\u001b[0;34m)\u001b[0m\u001b[0;34m)\u001b[0m\u001b[0;34m\u001b[0m\u001b[0;34m\u001b[0m\u001b[0m\n\u001b[1;32m    105\u001b[0m \u001b[0;34m\u001b[0m\u001b[0m\n\u001b[0;32m--> 106\u001b[0;31m             \u001b[0mloss\u001b[0m \u001b[0;34m=\u001b[0m \u001b[0mchamfer_loss\u001b[0m\u001b[0;34m(\u001b[0m\u001b[0mpoint_clouds\u001b[0m\u001b[0;34m,\u001b[0m \u001b[0mrecons\u001b[0m\u001b[0;34m)\u001b[0m\u001b[0;34m\u001b[0m\u001b[0;34m\u001b[0m\u001b[0m\n\u001b[0m\u001b[1;32m    107\u001b[0m \u001b[0;34m\u001b[0m\u001b[0m\n\u001b[1;32m    108\u001b[0m            \u001b[0;31m# optimizer.zero_grad()\u001b[0m\u001b[0;34m\u001b[0m\u001b[0;34m\u001b[0m\u001b[0;34m\u001b[0m\u001b[0m\n",
            "\u001b[0;32m/content/3d-lmnet-pytorch/3d-lmnet-pytorch/utils/losses.py\u001b[0m in \u001b[0;36m__call__\u001b[0;34m(self, y_true, y_pred)\u001b[0m\n\u001b[1;32m     27\u001b[0m \u001b[0;34m\u001b[0m\u001b[0m\n\u001b[1;32m     28\u001b[0m     \u001b[0;32mdef\u001b[0m \u001b[0m__call__\u001b[0m\u001b[0;34m(\u001b[0m\u001b[0mself\u001b[0m\u001b[0;34m,\u001b[0m \u001b[0my_true\u001b[0m\u001b[0;34m,\u001b[0m \u001b[0my_pred\u001b[0m\u001b[0;34m)\u001b[0m\u001b[0;34m:\u001b[0m\u001b[0;34m\u001b[0m\u001b[0;34m\u001b[0m\u001b[0m\n\u001b[0;32m---> 29\u001b[0;31m         \u001b[0mdists_forward\u001b[0m\u001b[0;34m,\u001b[0m \u001b[0m_\u001b[0m \u001b[0;34m=\u001b[0m \u001b[0mtorch\u001b[0m\u001b[0;34m.\u001b[0m\u001b[0mcdist\u001b[0m\u001b[0;34m(\u001b[0m\u001b[0my_true\u001b[0m\u001b[0;34m,\u001b[0m \u001b[0my_pred\u001b[0m\u001b[0;34m)\u001b[0m\u001b[0;34m\u001b[0m\u001b[0;34m\u001b[0m\u001b[0m\n\u001b[0m\u001b[1;32m     30\u001b[0m         \u001b[0mdists_backward\u001b[0m\u001b[0;34m,\u001b[0m \u001b[0m_\u001b[0m \u001b[0;34m=\u001b[0m \u001b[0mtorch\u001b[0m\u001b[0;34m.\u001b[0m\u001b[0mcdist\u001b[0m\u001b[0;34m(\u001b[0m\u001b[0my_pred\u001b[0m\u001b[0;34m,\u001b[0m \u001b[0my_true\u001b[0m\u001b[0;34m)\u001b[0m\u001b[0;34m\u001b[0m\u001b[0;34m\u001b[0m\u001b[0m\n\u001b[1;32m     31\u001b[0m \u001b[0;34m\u001b[0m\u001b[0m\n",
            "\u001b[0;31mValueError\u001b[0m: too many values to unpack (expected 2)"
          ]
        }
      ],
      "source": [
        "from training import train_ae\n",
        "\n",
        "\n",
        "    # parser.add_argument(\"--root\", type=str, default=\"./data\")\n",
        "    # parser.add_argument(\"--npoints\", type=int, default=2048)\n",
        "    # parser.add_argument(\"--mpoints\", type=int, default=2025)\n",
        "    # parser.add_argument(\"--batch_size\", type=int, default=16)\n",
        "    # parser.add_argument(\"--lr\", type=float, default=1e-4)\n",
        "    # parser.add_argument(\"--weight_decay\", type=float, default=1e-6)\n",
        "    # parser.add_argument(\"--epochs\", type=int, default=400)\n",
        "    # parser.add_argument(\"--num_workers\", type=int, default=4)\n",
        "    # parser.add_argument(\"--log_dir\", type=str, default=\"./log\")\n",
        "\n",
        "generalization_config = {\n",
        "    'root': './3d-lmnet-pytorch/',\n",
        "    'experiment_name': '3d_autoencoder',\n",
        "    'device': 'cuda:0',  # run this on a gpu for a reasonable training time\n",
        "    'is_overfit': False,\n",
        "    'npoints': 2048,\n",
        "    'mpoints': 2025,\n",
        "    'lr': 1e-4,\n",
        "    \"autoencoder\":\"/content/3d-lmnet-pytorch/3d-lmnet-pytorch/additional_epoches/model_epoch_300.pth\",\n",
        "    'weight_decay': 1e-6,\n",
        "    'bottleneck': 512,\n",
        "    'batch_size': 32,\n",
        "    'resume_ckpt': None,\n",
        "    'learning_rate_model':  0.00005,\n",
        "    'max_epochs': 200,  \n",
        "    'num_workers': 4,\n",
        "    \"input_size\" : 256,\n",
        "    \"hidden_size\" : 256,\n",
        "    \"output_size\" : 2048*3,\n",
        "    'log_dir': '/content/drive/MyDrive/3d-lmnet-pytorch/3d-lmnet-pytorch/additional_epoches',\n",
        "    'print_every_n': 5,\n",
        "    'visualize_every_n': 5,\n",
        "}\n",
        "\n",
        "train_ae.main(generalization_config)"
      ]
    },
    {
      "cell_type": "markdown",
      "source": [
        "### 3D Inferences"
      ],
      "metadata": {
        "id": "V4LmVnAu2jeS"
      }
    },
    {
      "cell_type": "code",
      "execution_count": null,
      "metadata": {
        "id": "BoaKVSVfgnMc"
      },
      "outputs": [],
      "source": [
        "from inference import infer_3d\n",
        "\n",
        "generalization_config = {\n",
        "    \"autoencoder\":\"/content/drive/MyDrive/3d-lmnet-pytorch/3d-lmnet-pytorch/logs/model_epoch_500.pth\",\n",
        "    'bottleneck': 512,\n",
        "    'batch_size': 1,\n",
        "    'num_workers': 4,\n",
        "    \"input_size\" : 256,\n",
        "    \"hidden_size\" : 256,\n",
        "    \"output_size\" : 2048*3,\n",
        "}\n",
        "\n",
        "infer_3d.main(generalization_config)"
      ]
    }
  ],
  "metadata": {
    "accelerator": "GPU",
    "colab": {
      "machine_shape": "hm",
      "provenance": []
    },
    "gpuClass": "standard",
    "kernelspec": {
      "display_name": "base",
      "language": "python",
      "name": "python3"
    },
    "language_info": {
      "codemirror_mode": {
        "name": "ipython",
        "version": 3
      },
      "file_extension": ".py",
      "mimetype": "text/x-python",
      "name": "python",
      "nbconvert_exporter": "python",
      "pygments_lexer": "ipython3",
      "version": "3.9.13 (main, Aug 25 2022, 23:51:50) [MSC v.1916 64 bit (AMD64)]"
    },
    "vscode": {
      "interpreter": {
        "hash": "1a453b615765addad4971118d8a9ab96c4ea1423c3e71d4bd1e873af4a20b25f"
      }
    }
  },
  "nbformat": 4,
  "nbformat_minor": 0
}
